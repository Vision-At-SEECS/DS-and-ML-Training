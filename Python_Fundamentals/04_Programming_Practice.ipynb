{
 "cells": [
  {
   "cell_type": "markdown",
   "id": "8baca67c",
   "metadata": {},
   "source": [
    "![Bismillah.png](Bismillah.png)"
   ]
  },
  {
   "cell_type": "markdown",
   "id": "80f5859a",
   "metadata": {},
   "source": [
    "## Programming Practice Problems"
   ]
  },
  {
   "cell_type": "markdown",
   "id": "731a3d62",
   "metadata": {},
   "source": [
    "#### Problem1\n",
    "Print a box like the one below.\n",
    "```\n",
    "*****\n",
    "*****\n",
    "*****\n",
    "```"
   ]
  },
  {
   "cell_type": "code",
   "execution_count": 13,
   "id": "7e7f4916",
   "metadata": {},
   "outputs": [
    {
     "name": "stdout",
     "output_type": "stream",
     "text": [
      " ***** \n",
      " ***** \n",
      " *****\n"
     ]
    }
   ],
   "source": [
    "stars = '*****'\n",
    "print('',stars,'\\n',stars,'\\n',stars)"
   ]
  },
  {
   "cell_type": "markdown",
   "id": "4db4e7c9",
   "metadata": {},
   "source": [
    "#### Problem2\n",
    "Write a program that will ask you to enter temperature in Celsius and print its equivalent in Fahrenheit."
   ]
  },
  {
   "cell_type": "code",
   "execution_count": 9,
   "id": "f55eb3ee",
   "metadata": {},
   "outputs": [
    {
     "name": "stdout",
     "output_type": "stream",
     "text": [
      "Enter a temperature in Celsius: 45\n",
      "In Fahrenheit, that is 113.0\n"
     ]
    }
   ],
   "source": [
    "temp = eval(input('Enter a temperature in Celsius: '))\n",
    "print('In Fahrenheit, that is', 9/5*temp+32)"
   ]
  },
  {
   "cell_type": "markdown",
   "id": "e22072e1",
   "metadata": {},
   "source": [
    "#### Problem3\n",
    "Write a program that generates Fibonacci series but not greater than 100:"
   ]
  },
  {
   "cell_type": "code",
   "execution_count": 4,
   "id": "7d6dd933",
   "metadata": {},
   "outputs": [
    {
     "name": "stdout",
     "output_type": "stream",
     "text": [
      "0\n",
      "1\n",
      "1\n",
      "2\n",
      "3\n",
      "5\n",
      "8\n",
      "13\n",
      "21\n",
      "34\n",
      "55\n",
      "89\n"
     ]
    }
   ],
   "source": [
    "# Fibonacci series:\n",
    "# the sum of two elements defines the next\n",
    "a, b = 0, 1\n",
    "while a < 100:\n",
    "    print(a)\n",
    "    a, b = b, a+b"
   ]
  },
  {
   "cell_type": "code",
   "execution_count": 5,
   "id": "1f2d2afb",
   "metadata": {},
   "outputs": [
    {
     "name": "stdout",
     "output_type": "stream",
     "text": [
      "0,1,1,2,3,5,8,13,21,34,55,89,"
     ]
    }
   ],
   "source": [
    "a, b = 0, 1\n",
    "while a < 100:\n",
    "    print(a, end=',')\n",
    "    a, b = b, a+b"
   ]
  },
  {
   "cell_type": "markdown",
   "id": "d45ec1bd",
   "metadata": {},
   "source": [
    "#### Problem4\n",
    "Use a for loop to print a triangle like the one below. Allow the user to specify how high the\n",
    "triangle should be.\n",
    "```\n",
    "*\n",
    "**\n",
    "***\n",
    "****\n",
    "```"
   ]
  },
  {
   "cell_type": "code",
   "execution_count": 15,
   "id": "ddc65566",
   "metadata": {},
   "outputs": [
    {
     "name": "stdout",
     "output_type": "stream",
     "text": [
      "*\n",
      "**\n",
      "***\n",
      "****\n"
     ]
    }
   ],
   "source": [
    "for i in range(1,5):\n",
    "    print('*'*i)"
   ]
  },
  {
   "cell_type": "markdown",
   "id": "3fe994c3",
   "metadata": {},
   "source": [
    "#### Problem5\n",
    "Use for loops to print a diamond like the one below. Allow the user to specify how high the\n",
    "diamond should be.\n",
    "```\n",
    "   *\n",
    "  ***\n",
    " *****\n",
    "*******\n",
    " *****\n",
    "  ***\n",
    "   *\n",
    "\n",
    "```"
   ]
  },
  {
   "cell_type": "code",
   "execution_count": 47,
   "id": "6397d525",
   "metadata": {},
   "outputs": [
    {
     "name": "stdout",
     "output_type": "stream",
     "text": [
      "please enter diamond's height:4\n",
      "     *\n",
      "    ***\n",
      "   *****\n",
      "  *******\n",
      "   *****\n",
      "    ***\n",
      "     *\n"
     ]
    }
   ],
   "source": [
    "h = eval(input(\"please enter diamond's height:\"))\n",
    "\n",
    "for i in range(h):\n",
    "    print(\" \"*(h-i), \"*\"*(i*2+1))\n",
    "for i in range(h-2, -1, -1):\n",
    "    print(\" \"*(h-i), \"*\"*(i*2+1))"
   ]
  },
  {
   "cell_type": "markdown",
   "id": "34498922",
   "metadata": {},
   "source": [
    "### Explanation:\n",
    "\n",
    "please enter diamond's height:4\n",
    "```\n",
    "     *\n",
    "    ***\n",
    "   *****\n",
    "  *******\n",
    "   *****\n",
    "    ***\n",
    "     *\n",
    "```\n",
    "3, 2, 1, 0, 1, 2, 3  space\n",
    "1, 3, 5, 7, 5, 3, 1  star\n",
    "\n",
    "please enter diamond's height:5\n",
    "```\n",
    "      *\n",
    "     ***\n",
    "    *****\n",
    "   *******\n",
    "  *********\n",
    "   *******\n",
    "    *****\n",
    "     ***\n",
    "      *\n",
    "```\n",
    "4, 3, 2, 1, 0, 1, 2, 3, 4  space\n",
    "1, 3, 5, 7, 9, 7, 5, 3, 1  star"
   ]
  },
  {
   "cell_type": "code",
   "execution_count": null,
   "id": "df59039b",
   "metadata": {},
   "outputs": [],
   "source": []
  }
 ],
 "metadata": {
  "kernelspec": {
   "display_name": "Python 3 (ipykernel)",
   "language": "python",
   "name": "python3"
  },
  "language_info": {
   "codemirror_mode": {
    "name": "ipython",
    "version": 3
   },
   "file_extension": ".py",
   "mimetype": "text/x-python",
   "name": "python",
   "nbconvert_exporter": "python",
   "pygments_lexer": "ipython3",
   "version": "3.8.8"
  }
 },
 "nbformat": 4,
 "nbformat_minor": 5
}
