{
 "cells": [
  {
   "cell_type": "markdown",
   "id": "e28f7d65",
   "metadata": {},
   "source": [
    "![Bismillah.png](Images/Bismillah.png)"
   ]
  },
  {
   "cell_type": "markdown",
   "id": "cb84b935",
   "metadata": {},
   "source": [
    "# Python Fundamentals\n",
    "Python is an easy to learn, powerful programming language. It has efficient high-level data structures and a simple but effective approach to object-oriented programming. Python’s elegant syntax and dynamic typing, together with its interpreted nature, make it an ideal language for scripting and rapid application development in many areas on most platforms."
   ]
  },
  {
   "cell_type": "markdown",
   "id": "89569e16",
   "metadata": {},
   "source": [
    "Now, Press **Windows key** type jupyter Notebook and then press Enter.\n",
    "Type the following in the cell.\n",
    "```\n",
    "print(\"Bismillah\") # Outputs Bismillah\n",
    "```"
   ]
  },
  {
   "cell_type": "markdown",
   "id": "d7ce0139",
   "metadata": {},
   "source": [
    "### Variables and Operators"
   ]
  },
  {
   "cell_type": "markdown",
   "id": "42e64b5d",
   "metadata": {},
   "source": [
    "<h1> Value </h1>\n",
    "\n",
    "A value is one of the basic things a program works with, like a letter or a number. The values could be 1,2, \"Hello world\"."
   ]
  },
  {
   "cell_type": "code",
   "execution_count": 1,
   "id": "9f759014",
   "metadata": {},
   "outputs": [
    {
     "name": "stdout",
     "output_type": "stream",
     "text": [
      "4\n"
     ]
    }
   ],
   "source": [
    "print(4) #prints integer 4"
   ]
  },
  {
   "cell_type": "markdown",
   "id": "d31533b6",
   "metadata": {},
   "source": [
    "If you are not sure about value, the python interpreter can tell you."
   ]
  },
  {
   "cell_type": "code",
   "execution_count": 2,
   "id": "b2a1ba96",
   "metadata": {},
   "outputs": [
    {
     "data": {
      "text/plain": [
       "str"
      ]
     },
     "execution_count": 2,
     "metadata": {},
     "output_type": "execute_result"
    }
   ],
   "source": [
    "type(\"Hello, World!\") #prints type"
   ]
  },
  {
   "cell_type": "code",
   "execution_count": 170,
   "id": "378d6e06",
   "metadata": {},
   "outputs": [
    {
     "data": {
      "text/plain": [
       "float"
      ]
     },
     "execution_count": 170,
     "metadata": {},
     "output_type": "execute_result"
    }
   ],
   "source": [
    "type(3.2) #prints type"
   ]
  },
  {
   "cell_type": "markdown",
   "id": "5757f9f6",
   "metadata": {},
   "source": [
    "### Numbers/Operators"
   ]
  },
  {
   "cell_type": "code",
   "execution_count": 52,
   "id": "8ddd23e2",
   "metadata": {},
   "outputs": [
    {
     "name": "stdout",
     "output_type": "stream",
     "text": [
      "50\n",
      "20\n",
      "6\n",
      "2\n",
      "9\n"
     ]
    }
   ],
   "source": [
    "print(20+30) #addition\n",
    "print(50-30) # subtraction\n",
    "print(3*2) #multiplication\n",
    "print(6//3) # division\n",
    "print(3**2) #exponent"
   ]
  },
  {
   "cell_type": "code",
   "execution_count": 4,
   "id": "f627772c",
   "metadata": {},
   "outputs": [
    {
     "data": {
      "text/plain": [
       "4"
      ]
     },
     "execution_count": 4,
     "metadata": {},
     "output_type": "execute_result"
    }
   ],
   "source": [
    "2 + 2"
   ]
  },
  {
   "cell_type": "code",
   "execution_count": 5,
   "id": "40dd8e80",
   "metadata": {},
   "outputs": [
    {
     "data": {
      "text/plain": [
       "20"
      ]
     },
     "execution_count": 5,
     "metadata": {},
     "output_type": "execute_result"
    }
   ],
   "source": [
    "50 - 5*6"
   ]
  },
  {
   "cell_type": "code",
   "execution_count": 6,
   "id": "11ad1b82",
   "metadata": {},
   "outputs": [
    {
     "data": {
      "text/plain": [
       "5.0"
      ]
     },
     "execution_count": 6,
     "metadata": {},
     "output_type": "execute_result"
    }
   ],
   "source": [
    "(50 - 5*6) / 4"
   ]
  },
  {
   "cell_type": "code",
   "execution_count": 7,
   "id": "fa2c8389",
   "metadata": {},
   "outputs": [
    {
     "data": {
      "text/plain": [
       "1.6"
      ]
     },
     "execution_count": 7,
     "metadata": {},
     "output_type": "execute_result"
    }
   ],
   "source": [
    "8 / 5  # division always returns a floating point number"
   ]
  },
  {
   "cell_type": "markdown",
   "id": "247efd63",
   "metadata": {},
   "source": [
    "Explaination:\n",
    "The integer numbers (e.g. 2, 4, 20) have type int, the ones with a fractional part (e.g. 5.0, 1.6) have type float. We will see more about numeric types later in the tutorial."
   ]
  },
  {
   "cell_type": "markdown",
   "id": "23c11153",
   "metadata": {},
   "source": [
    "**Division (/) always returns a float. To do floor division and get an integer result (discarding any fractional result) you can use the // operator; to calculate the remainder you can use %:**"
   ]
  },
  {
   "cell_type": "code",
   "execution_count": 9,
   "id": "8e5d0bf5",
   "metadata": {},
   "outputs": [
    {
     "data": {
      "text/plain": [
       "5.666666666666667"
      ]
     },
     "execution_count": 9,
     "metadata": {},
     "output_type": "execute_result"
    }
   ],
   "source": [
    "17 / 3  # classic division returns a float"
   ]
  },
  {
   "cell_type": "code",
   "execution_count": 10,
   "id": "f1699ee7",
   "metadata": {},
   "outputs": [
    {
     "data": {
      "text/plain": [
       "5"
      ]
     },
     "execution_count": 10,
     "metadata": {},
     "output_type": "execute_result"
    }
   ],
   "source": [
    "17 // 3  # floor division discards the fractional part"
   ]
  },
  {
   "cell_type": "code",
   "execution_count": 11,
   "id": "f211dc99",
   "metadata": {},
   "outputs": [
    {
     "data": {
      "text/plain": [
       "2"
      ]
     },
     "execution_count": 11,
     "metadata": {},
     "output_type": "execute_result"
    }
   ],
   "source": [
    "17 % 3  # the % operator returns the remainder of the division"
   ]
  },
  {
   "cell_type": "code",
   "execution_count": 12,
   "id": "40e9a519",
   "metadata": {},
   "outputs": [
    {
     "data": {
      "text/plain": [
       "17"
      ]
     },
     "execution_count": 12,
     "metadata": {},
     "output_type": "execute_result"
    }
   ],
   "source": [
    "5 * 3 + 2  # floored quotient * divisor + remainder"
   ]
  },
  {
   "cell_type": "markdown",
   "id": "2dfab82b",
   "metadata": {},
   "source": [
    "With Python, it is possible to use the ** operator to calculate powers:"
   ]
  },
  {
   "cell_type": "code",
   "execution_count": 13,
   "id": "a382b8f5",
   "metadata": {},
   "outputs": [
    {
     "data": {
      "text/plain": [
       "25"
      ]
     },
     "execution_count": 13,
     "metadata": {},
     "output_type": "execute_result"
    }
   ],
   "source": [
    "5 ** 2  # 5 squared"
   ]
  },
  {
   "cell_type": "code",
   "execution_count": 14,
   "id": "93144548",
   "metadata": {},
   "outputs": [
    {
     "data": {
      "text/plain": [
       "128"
      ]
     },
     "execution_count": 14,
     "metadata": {},
     "output_type": "execute_result"
    }
   ],
   "source": [
    "2 ** 7  # 2 to the power of 7"
   ]
  },
  {
   "cell_type": "markdown",
   "id": "bb23224f",
   "metadata": {},
   "source": [
    "There is full support for floating point; operators with mixed type operands convert the integer operand to floating point:"
   ]
  },
  {
   "cell_type": "code",
   "execution_count": 17,
   "id": "bae3810a",
   "metadata": {},
   "outputs": [
    {
     "data": {
      "text/plain": [
       "14.0"
      ]
     },
     "execution_count": 17,
     "metadata": {},
     "output_type": "execute_result"
    }
   ],
   "source": [
    "4 * 3.75 - 1"
   ]
  },
  {
   "cell_type": "markdown",
   "id": "9f6b3b22",
   "metadata": {},
   "source": [
    "<h2> Order of Operations </h2>\n",
    "When more than one operator appears in an expression, the order of evaluation depends on the rules of precedence. For mathematical operators, Python follows\n",
    "mathematical convention. The acronym PEMDAS is a useful way to remember the rules.\n",
    "\n",
    "- Paranthesis\n",
    "- Exponent\n",
    "- Multiplication\n",
    "- Division\n",
    "- Addition\n",
    "- Subtraction"
   ]
  },
  {
   "cell_type": "code",
   "execution_count": 53,
   "id": "6ca34b7a",
   "metadata": {},
   "outputs": [
    {
     "data": {
      "text/plain": [
       "8"
      ]
     },
     "execution_count": 53,
     "metadata": {},
     "output_type": "execute_result"
    }
   ],
   "source": [
    "#Example\n",
    "(1+1)**(5-2)"
   ]
  },
  {
   "cell_type": "markdown",
   "id": "de0f8199",
   "metadata": {},
   "source": [
    "The last printed expression is assigned to the variable _. This means that when you are using Python\n",
    "as a desk calculator, it is somewhat easier to continue calculations, for example:"
   ]
  },
  {
   "cell_type": "code",
   "execution_count": 19,
   "id": "323539a0",
   "metadata": {},
   "outputs": [
    {
     "data": {
      "text/plain": [
       "12.5625"
      ]
     },
     "execution_count": 19,
     "metadata": {},
     "output_type": "execute_result"
    }
   ],
   "source": [
    "tax = 12.5 / 100\n",
    "price = 100.50\n",
    "price * tax"
   ]
  },
  {
   "cell_type": "code",
   "execution_count": 20,
   "id": "f5e7a5fc",
   "metadata": {},
   "outputs": [
    {
     "data": {
      "text/plain": [
       "113.0625"
      ]
     },
     "execution_count": 20,
     "metadata": {},
     "output_type": "execute_result"
    }
   ],
   "source": [
    "price + _"
   ]
  },
  {
   "cell_type": "code",
   "execution_count": 21,
   "id": "c3ba2fc2",
   "metadata": {},
   "outputs": [
    {
     "data": {
      "text/plain": [
       "113.06"
      ]
     },
     "execution_count": 21,
     "metadata": {},
     "output_type": "execute_result"
    }
   ],
   "source": [
    "round(_, 2)"
   ]
  },
  {
   "cell_type": "markdown",
   "id": "1d215581",
   "metadata": {},
   "source": [
    "<h2> Realtional Operators </h2>\n",
    "\n",
    "The operators \" ==, !=, <, >, <=, >=\" are in following examples:"
   ]
  },
  {
   "cell_type": "code",
   "execution_count": 54,
   "id": "d46a1b41",
   "metadata": {},
   "outputs": [
    {
     "name": "stdout",
     "output_type": "stream",
     "text": [
      "False\n",
      "True\n",
      "False\n"
     ]
    }
   ],
   "source": [
    "x=5\n",
    "print(x==4) # prints False\n",
    "print(x>4) #prints True\n",
    "print(x!=5) #prints False"
   ]
  },
  {
   "cell_type": "markdown",
   "id": "bb218568",
   "metadata": {},
   "source": [
    "<h2> Logical Operators </h2>\n",
    "\n",
    "There are three logical operators: and, or, and not. The semantics (meaning) of these operators is similar to their meaning in English. For example,"
   ]
  },
  {
   "cell_type": "code",
   "execution_count": 55,
   "id": "c64f7f2a",
   "metadata": {},
   "outputs": [
    {
     "data": {
      "text/plain": [
       "True"
      ]
     },
     "execution_count": 55,
     "metadata": {},
     "output_type": "execute_result"
    }
   ],
   "source": [
    "x>0 and x<10 #is true only if x is greater than 0 and less than 10"
   ]
  },
  {
   "cell_type": "code",
   "execution_count": 56,
   "id": "9ed8e7f2",
   "metadata": {},
   "outputs": [
    {
     "data": {
      "text/plain": [
       "False"
      ]
     },
     "execution_count": 56,
     "metadata": {},
     "output_type": "execute_result"
    }
   ],
   "source": [
    "(x%2 == 0) or (x%3 == 0)"
   ]
  },
  {
   "cell_type": "code",
   "execution_count": 57,
   "id": "2edf6ee2",
   "metadata": {},
   "outputs": [
    {
     "data": {
      "text/plain": [
       "True"
      ]
     },
     "execution_count": 57,
     "metadata": {},
     "output_type": "execute_result"
    }
   ],
   "source": [
    "17 and True #integer is treated as True"
   ]
  },
  {
   "cell_type": "markdown",
   "id": "540c5387",
   "metadata": {},
   "source": [
    "### Strings"
   ]
  },
  {
   "cell_type": "markdown",
   "id": "49d5a5af",
   "metadata": {},
   "source": [
    "Besides numbers, Python can also manipulate strings, which can be expressed in several ways. They can be enclosed in single quotes ('...') or double quotes (\"...\") with the same result 2. \\ can be used to escape quotes:"
   ]
  },
  {
   "cell_type": "code",
   "execution_count": 22,
   "id": "53276d3d",
   "metadata": {},
   "outputs": [
    {
     "data": {
      "text/plain": [
       "'spam eggs'"
      ]
     },
     "execution_count": 22,
     "metadata": {},
     "output_type": "execute_result"
    }
   ],
   "source": [
    "'spam eggs'  # single quotes"
   ]
  },
  {
   "cell_type": "code",
   "execution_count": 24,
   "id": "17fdf23a",
   "metadata": {},
   "outputs": [
    {
     "data": {
      "text/plain": [
       "\"doesn't\""
      ]
     },
     "execution_count": 24,
     "metadata": {},
     "output_type": "execute_result"
    }
   ],
   "source": [
    "'doesn\\'t'  # use \\' to escape the single quote..."
   ]
  },
  {
   "cell_type": "code",
   "execution_count": 25,
   "id": "99b05c12",
   "metadata": {},
   "outputs": [
    {
     "data": {
      "text/plain": [
       "\"doesn't\""
      ]
     },
     "execution_count": 25,
     "metadata": {},
     "output_type": "execute_result"
    }
   ],
   "source": [
    "\"doesn't\"  # ...or use double quotes instead"
   ]
  },
  {
   "cell_type": "code",
   "execution_count": 26,
   "id": "9f033fc2",
   "metadata": {},
   "outputs": [
    {
     "data": {
      "text/plain": [
       "'\"Yes,\" they said.'"
      ]
     },
     "execution_count": 26,
     "metadata": {},
     "output_type": "execute_result"
    }
   ],
   "source": [
    "'\"Yes,\" they said.'"
   ]
  },
  {
   "cell_type": "code",
   "execution_count": 27,
   "id": "277bb82e",
   "metadata": {},
   "outputs": [
    {
     "data": {
      "text/plain": [
       "'\"Yes,\" they said.'"
      ]
     },
     "execution_count": 27,
     "metadata": {},
     "output_type": "execute_result"
    }
   ],
   "source": [
    "\"\\\"Yes,\\\" they said.\""
   ]
  },
  {
   "cell_type": "code",
   "execution_count": 28,
   "id": "0798f52f",
   "metadata": {},
   "outputs": [
    {
     "data": {
      "text/plain": [
       "'\"Isn\\'t,\" they said.'"
      ]
     },
     "execution_count": 28,
     "metadata": {},
     "output_type": "execute_result"
    }
   ],
   "source": [
    "'\"Isn\\'t,\" they said.'"
   ]
  },
  {
   "cell_type": "markdown",
   "id": "f89badc9",
   "metadata": {},
   "source": [
    "The output string is enclosed in quotes and special characters are escaped with backslashes. While this might sometimes look different from the input (the enclosing quotes could change), the two strings are equivalent. The string is enclosed in double quotes if the string contains a single quote and no double quotes, otherwise it is enclosed in single quotes. The print() function produces a more readable output, by omitting the enclosing quotes and by printing escaped and special characters:"
   ]
  },
  {
   "cell_type": "code",
   "execution_count": 29,
   "id": "8a738806",
   "metadata": {},
   "outputs": [
    {
     "data": {
      "text/plain": [
       "'\"Isn\\'t,\" they said.'"
      ]
     },
     "execution_count": 29,
     "metadata": {},
     "output_type": "execute_result"
    }
   ],
   "source": [
    "'\"Isn\\'t,\" they said.'"
   ]
  },
  {
   "cell_type": "code",
   "execution_count": 30,
   "id": "5f1b051c",
   "metadata": {},
   "outputs": [
    {
     "name": "stdout",
     "output_type": "stream",
     "text": [
      "\"Isn't,\" they said.\n"
     ]
    }
   ],
   "source": [
    "print('\"Isn\\'t,\" they said.')"
   ]
  },
  {
   "cell_type": "code",
   "execution_count": 33,
   "id": "8cd28018",
   "metadata": {},
   "outputs": [
    {
     "data": {
      "text/plain": [
       "'First line.\\nSecond line.'"
      ]
     },
     "execution_count": 33,
     "metadata": {},
     "output_type": "execute_result"
    }
   ],
   "source": [
    "s = 'First line.\\nSecond line.'  # \\n means newline\n",
    "s  # without print(), \\n is included in the output"
   ]
  },
  {
   "cell_type": "code",
   "execution_count": 34,
   "id": "0f85341d",
   "metadata": {},
   "outputs": [
    {
     "name": "stdout",
     "output_type": "stream",
     "text": [
      "First line.\n",
      "Second line.\n"
     ]
    }
   ],
   "source": [
    "print(s)  # with print(), \\n produces a new line"
   ]
  },
  {
   "cell_type": "markdown",
   "id": "665e8978",
   "metadata": {},
   "source": [
    "Exercise1:\n",
    "If you don’t want characters prefaced by \\ to be interpreted as special characters, you can use raw strings by adding an r before the first quote:\n",
    "\n",
    "- print('C:\\some\\name')  # here \\n means newline!\n",
    "- print(r'C:\\some\\name')  # note the r before the quote"
   ]
  },
  {
   "cell_type": "markdown",
   "id": "b021bc8b",
   "metadata": {},
   "source": [
    "Strings can be concatenated (glued together) with the + operator, and repeated with *:"
   ]
  },
  {
   "cell_type": "code",
   "execution_count": 35,
   "id": "db283ec2",
   "metadata": {},
   "outputs": [
    {
     "data": {
      "text/plain": [
       "'unununium'"
      ]
     },
     "execution_count": 35,
     "metadata": {},
     "output_type": "execute_result"
    }
   ],
   "source": [
    "# 3 times 'un', followed by 'ium'\n",
    "3 * 'un' + 'ium'"
   ]
  },
  {
   "cell_type": "markdown",
   "id": "5549a7fa",
   "metadata": {},
   "source": [
    "Two or more string literals (i.e. the ones enclosed between quotes) next to each other are automatically concatenated."
   ]
  },
  {
   "cell_type": "code",
   "execution_count": 172,
   "id": "dfa1801d",
   "metadata": {},
   "outputs": [
    {
     "data": {
      "text/plain": [
       "'python'"
      ]
     },
     "execution_count": 172,
     "metadata": {},
     "output_type": "execute_result"
    }
   ],
   "source": [
    "x ='py'\n",
    "x + 'thon'"
   ]
  },
  {
   "cell_type": "code",
   "execution_count": 36,
   "id": "c823bea0",
   "metadata": {},
   "outputs": [
    {
     "data": {
      "text/plain": [
       "'Python'"
      ]
     },
     "execution_count": 36,
     "metadata": {},
     "output_type": "execute_result"
    }
   ],
   "source": [
    "'Py' 'thon'"
   ]
  },
  {
   "cell_type": "markdown",
   "id": "9ed0e9e5",
   "metadata": {},
   "source": [
    "Exercise2:This only works with two literals though, not with variables or expressions:\n",
    "> prefix = 'Py'\n",
    "> prefix 'thon'  # can't concatenate a variable and a string literal\n",
    "\n",
    "> ('un' * 3) 'ium'\n",
    "\n",
    "If you want to concatenate variables or a variable and a literal, use +:\n",
    "\n",
    "> prefix + 'thon'"
   ]
  },
  {
   "cell_type": "markdown",
   "id": "42e38000",
   "metadata": {},
   "source": [
    "Strings can be indexed (subscripted), with the first character having index 0. There is no separate character type; a character is simply a string of size one:"
   ]
  },
  {
   "cell_type": "code",
   "execution_count": 37,
   "id": "de33a35f",
   "metadata": {},
   "outputs": [
    {
     "name": "stdout",
     "output_type": "stream",
     "text": [
      "P\n",
      "n\n"
     ]
    }
   ],
   "source": [
    "word = 'Python'\n",
    "print(word[0])  # character in position 0\n",
    "print(word[5])  # character in position 5"
   ]
  },
  {
   "cell_type": "markdown",
   "id": "4a5c085a",
   "metadata": {},
   "source": [
    "Indices may also be negative numbers, to start counting from the right:"
   ]
  },
  {
   "cell_type": "code",
   "execution_count": 39,
   "id": "7f49b93a",
   "metadata": {},
   "outputs": [
    {
     "name": "stdout",
     "output_type": "stream",
     "text": [
      "n\n",
      "o\n",
      "P\n"
     ]
    }
   ],
   "source": [
    "print(word[-1])  # last character\n",
    "print(word[-2])  # second-last character\n",
    "print(word[-6])"
   ]
  },
  {
   "cell_type": "markdown",
   "id": "d7af0192",
   "metadata": {},
   "source": [
    "Note that since -0 is the same as 0, negative indices start from -1."
   ]
  },
  {
   "cell_type": "markdown",
   "id": "ff12ec9c",
   "metadata": {},
   "source": [
    "<h1>Variables </h1>\n",
    "\n",
    "One of the most powerful features of a programming language is the ability to manipulate variables. A variable is a name that refers to a value.\n",
    "\n",
    "An assignment statement creates new variables and gives them values:"
   ]
  },
  {
   "cell_type": "code",
   "execution_count": 48,
   "id": "4c4981e7",
   "metadata": {},
   "outputs": [],
   "source": [
    "name = \"John\"\n",
    "age = 24"
   ]
  },
  {
   "cell_type": "markdown",
   "id": "5c0239ab",
   "metadata": {},
   "source": [
    "This example makes two assignments. To display the values, you can use print statement"
   ]
  },
  {
   "cell_type": "code",
   "execution_count": 49,
   "id": "ea2dd891",
   "metadata": {},
   "outputs": [
    {
     "name": "stdout",
     "output_type": "stream",
     "text": [
      "John\n",
      "24\n",
      "<class 'str'>\n",
      "<class 'int'>\n"
     ]
    }
   ],
   "source": [
    "print(name)\n",
    "print(age)\n",
    "print(type(name))\n",
    "print(type(age))"
   ]
  },
  {
   "cell_type": "markdown",
   "id": "09a67bea",
   "metadata": {},
   "source": [
    "The equal sign (=) is used to assign a value to a variable. Afterwards, no result is displayed before the next interactive prompt:"
   ]
  },
  {
   "cell_type": "code",
   "execution_count": 50,
   "id": "fa1e44e2",
   "metadata": {},
   "outputs": [
    {
     "data": {
      "text/plain": [
       "900"
      ]
     },
     "execution_count": 50,
     "metadata": {},
     "output_type": "execute_result"
    }
   ],
   "source": [
    "width = 20\n",
    "height = 5 * 9\n",
    "width * height"
   ]
  },
  {
   "cell_type": "markdown",
   "id": "1b541dfa",
   "metadata": {},
   "source": [
    "If a variable is not “defined” (assigned a value), trying to use it will give you an error:"
   ]
  },
  {
   "cell_type": "code",
   "execution_count": 51,
   "id": "9e655037",
   "metadata": {},
   "outputs": [
    {
     "ename": "NameError",
     "evalue": "name 'n' is not defined",
     "output_type": "error",
     "traceback": [
      "\u001b[1;31m---------------------------------------------------------------------------\u001b[0m",
      "\u001b[1;31mNameError\u001b[0m                                 Traceback (most recent call last)",
      "\u001b[1;32mC:\\Users\\Public\\Documents\\Wondershare\\CreatorTemp/ipykernel_11608/18103570.py\u001b[0m in \u001b[0;36m<module>\u001b[1;34m\u001b[0m\n\u001b[1;32m----> 1\u001b[1;33m \u001b[0mn\u001b[0m  \u001b[1;31m# try to access an undefined variable\u001b[0m\u001b[1;33m\u001b[0m\u001b[1;33m\u001b[0m\u001b[0m\n\u001b[0m",
      "\u001b[1;31mNameError\u001b[0m: name 'n' is not defined"
     ]
    }
   ],
   "source": [
    "n  # try to access an undefined variable"
   ]
  },
  {
   "cell_type": "markdown",
   "id": "71623637",
   "metadata": {},
   "source": [
    "<h1> Condtional executions </h1>\n",
    "\n",
    "In order to write useful programs, we almost always need the ability to check conditions and change the behavior of the program accordingly.\n",
    "\n",
    "The simplest form is if statement:"
   ]
  },
  {
   "cell_type": "code",
   "execution_count": 58,
   "id": "4a281a01",
   "metadata": {},
   "outputs": [
    {
     "name": "stdout",
     "output_type": "stream",
     "text": [
      "x is positive.\n"
     ]
    }
   ],
   "source": [
    "x = 5\n",
    "\n",
    "if x > 0:\n",
    "    print(\"x is positive.\")"
   ]
  },
  {
   "cell_type": "code",
   "execution_count": 59,
   "id": "64907b1f",
   "metadata": {},
   "outputs": [],
   "source": [
    "if x < 0:\n",
    "    pass #you can use pass for doing nothing."
   ]
  },
  {
   "cell_type": "markdown",
   "id": "09f15c4f",
   "metadata": {},
   "source": [
    "<h1> Alternative Conditions</h1>\n",
    "\n",
    "When we have two possibilites and the condition determines which one to execute. For example:\n",
    "    "
   ]
  },
  {
   "cell_type": "code",
   "execution_count": 60,
   "id": "700f8d5a",
   "metadata": {},
   "outputs": [
    {
     "name": "stdout",
     "output_type": "stream",
     "text": [
      "Odd Number\n"
     ]
    }
   ],
   "source": [
    "if x%2 == 0:\n",
    "    print (\"Even Number\")\n",
    "else:\n",
    "    print(\"Odd Number\")"
   ]
  },
  {
   "cell_type": "markdown",
   "id": "9764e670",
   "metadata": {},
   "source": [
    "<h1> Chained Conditions </h1>\n",
    "\n",
    "When we have more than two possibilities. For example:"
   ]
  },
  {
   "cell_type": "code",
   "execution_count": 61,
   "id": "75c27790",
   "metadata": {},
   "outputs": [
    {
     "name": "stdout",
     "output_type": "stream",
     "text": [
      "X and Y are equal\n"
     ]
    }
   ],
   "source": [
    "y = 5\n",
    "\n",
    "if x > y:\n",
    "    print (\"X is greater than y\")\n",
    "elif x < y:\n",
    "    print(\"X is less than Y\")\n",
    "else:\n",
    "    print(\"X and Y are equal\")\n",
    "    "
   ]
  },
  {
   "cell_type": "markdown",
   "id": "0935238f",
   "metadata": {},
   "source": [
    "<h1>  Nested Conditions </h1>\n",
    "One conditional can also be nested within another."
   ]
  },
  {
   "cell_type": "code",
   "execution_count": 62,
   "id": "762b3985",
   "metadata": {},
   "outputs": [
    {
     "name": "stdout",
     "output_type": "stream",
     "text": [
      "x and y are equal\n"
     ]
    }
   ],
   "source": [
    "if x == y:\n",
    "    print('x and y are equal')\n",
    "else:\n",
    "    if x < y:\n",
    "        print('x is less than y')\n",
    "    else:\n",
    "        print('x is greater than y')"
   ]
  },
  {
   "cell_type": "markdown",
   "id": "0ec1fdd4",
   "metadata": {},
   "source": [
    "# Loops\n",
    "<h1> Iterations </h1>\n",
    "\n",
    "<h2> Updating variables </h2>\n",
    "A common pattern in assignment statements is an assignment statement that updates a variable, where the new value of the variable depends on the old."
   ]
  },
  {
   "cell_type": "code",
   "execution_count": 63,
   "id": "bdc2564e",
   "metadata": {},
   "outputs": [
    {
     "name": "stdout",
     "output_type": "stream",
     "text": [
      "2\n",
      "1\n"
     ]
    }
   ],
   "source": [
    "x = 1\n",
    "x = x+1   #increment\n",
    "print (x)\n",
    "\n",
    "x -= 1    #decrement\n",
    "print(x)\n",
    "\n",
    "#x++       #not allowed in python\n",
    "#print(x)"
   ]
  },
  {
   "cell_type": "markdown",
   "id": "059cc74b",
   "metadata": {},
   "source": [
    "<h2> While Loop </h2>\n",
    "\n",
    "One form of iteration in Python is the while statement. Here is a simple program that counts down from five and then says “Blastoff!”."
   ]
  },
  {
   "cell_type": "code",
   "execution_count": 174,
   "id": "4107ef28",
   "metadata": {},
   "outputs": [
    {
     "name": "stdout",
     "output_type": "stream",
     "text": [
      "5\n",
      "4\n",
      "3\n",
      "2\n",
      "1\n",
      "Blastoff!\n"
     ]
    }
   ],
   "source": [
    "x = 5\n",
    "while x > 0:\n",
    "    print(x)\n",
    "    x = x - 1\n",
    "print('Blastoff!')"
   ]
  },
  {
   "cell_type": "markdown",
   "id": "42672437",
   "metadata": {},
   "source": [
    "<h3> Breaking loop </h3>\n",
    "\n",
    "Exit the loop when i is equal to 3."
   ]
  },
  {
   "cell_type": "code",
   "execution_count": 65,
   "id": "d1d98623",
   "metadata": {},
   "outputs": [
    {
     "name": "stdout",
     "output_type": "stream",
     "text": [
      "1\n",
      "2\n",
      "3\n"
     ]
    }
   ],
   "source": [
    "i = 1\n",
    "while i < 6:\n",
    "  print(i)\n",
    "  if i == 3:\n",
    "    break\n",
    "  i += 1"
   ]
  },
  {
   "cell_type": "markdown",
   "id": "671cdcb6",
   "metadata": {},
   "source": [
    "<h3> Continue Statement </h3>\n",
    "\n",
    "With the continue statement we can skip the current iteration, and continue with the next"
   ]
  },
  {
   "cell_type": "code",
   "execution_count": 66,
   "id": "d91b1a79",
   "metadata": {},
   "outputs": [
    {
     "name": "stdout",
     "output_type": "stream",
     "text": [
      "1\n",
      "2\n",
      "4\n",
      "5\n",
      "6\n"
     ]
    }
   ],
   "source": [
    "i = 0\n",
    "while i < 6:\n",
    "  i += 1\n",
    "  if i == 3:\n",
    "    continue\n",
    "  print(i)"
   ]
  },
  {
   "cell_type": "markdown",
   "id": "88a918c6",
   "metadata": {},
   "source": [
    "<h2> For Loops </h2>\n",
    "\n",
    "A for loop is used for iterating over a sequence (that is either a list, a tuple, a dictionary, a set, or a string). The for loop does not require an indexing variable to set beforehand."
   ]
  },
  {
   "cell_type": "code",
   "execution_count": 175,
   "id": "33e1e007",
   "metadata": {},
   "outputs": [
    {
     "name": "stdout",
     "output_type": "stream",
     "text": [
      "0\n",
      "2\n",
      "4\n",
      "6\n",
      "8\n"
     ]
    }
   ],
   "source": [
    "for i in range(5):\n",
    "    print(i+i)"
   ]
  },
  {
   "cell_type": "markdown",
   "id": "71ca0962",
   "metadata": {},
   "source": [
    "The range() function returns a sequence of numbers, starting from 0 by default, and increments by 1 (by default), and ends at a specified number."
   ]
  },
  {
   "cell_type": "code",
   "execution_count": 176,
   "id": "7e33041e",
   "metadata": {},
   "outputs": [
    {
     "name": "stdout",
     "output_type": "stream",
     "text": [
      "2\n",
      "4\n"
     ]
    }
   ],
   "source": [
    "for x in range(2, 6,2): #value starting from 2 to 6 (excluding 6)\n",
    "  print(x)"
   ]
  },
  {
   "cell_type": "code",
   "execution_count": 69,
   "id": "5fc8c5a7",
   "metadata": {},
   "outputs": [
    {
     "name": "stdout",
     "output_type": "stream",
     "text": [
      "H\n",
      "e\n",
      "l\n",
      "l\n",
      "o\n"
     ]
    }
   ],
   "source": [
    "string = \"Hello\"\n",
    "for s in string:\n",
    "    print(s) #prints each character of string"
   ]
  },
  {
   "cell_type": "code",
   "execution_count": 179,
   "id": "ae49a731",
   "metadata": {},
   "outputs": [
    {
     "name": "stdout",
     "output_type": "stream",
     "text": [
      "apple\n",
      "cherry\n",
      "banana\n"
     ]
    }
   ],
   "source": [
    "fruits = [\"apple\",\"cherry\" ,\"banana\" ]\n",
    "for x in fruits:\n",
    "  print(x)\n",
    "  if x == \"banana\": #exits loop when x is banana\n",
    "    break"
   ]
  },
  {
   "cell_type": "code",
   "execution_count": 178,
   "id": "97faa102",
   "metadata": {},
   "outputs": [
    {
     "data": {
      "text/plain": [
       "'apple'"
      ]
     },
     "execution_count": 178,
     "metadata": {},
     "output_type": "execute_result"
    }
   ],
   "source": [
    "fruits[0]"
   ]
  },
  {
   "cell_type": "code",
   "execution_count": 71,
   "id": "03627e78",
   "metadata": {},
   "outputs": [
    {
     "name": "stdout",
     "output_type": "stream",
     "text": [
      "0 0\n",
      "0 1\n",
      "1 0\n",
      "1 1\n",
      "2 0\n",
      "2 1\n",
      "3 0\n",
      "3 1\n",
      "4 0\n",
      "4 1\n"
     ]
    }
   ],
   "source": [
    "for x in range(5):\n",
    "  for y in range(2):\n",
    "    print(x, y)"
   ]
  },
  {
   "cell_type": "markdown",
   "id": "78f277e7",
   "metadata": {},
   "source": [
    "<b>Emunerate</b>\n",
    "Returns a tuple containing a count for every iteration (from start which defaults to 0) and the values obtained from iterating over sequence:"
   ]
  },
  {
   "cell_type": "code",
   "execution_count": 73,
   "id": "ad63d45a",
   "metadata": {},
   "outputs": [
    {
     "name": "stdout",
     "output_type": "stream",
     "text": [
      "0 Ahsan\n",
      "1 Anas\n",
      "2 Osama\n",
      "3 Ahmad\n",
      "4 Muhammad\n",
      "5 Hamza\n"
     ]
    }
   ],
   "source": [
    "brothers = ['Ahsan', 'Anas', 'Osama', 'Ahmad', 'Muhammad', 'Hamza']\n",
    "for index, brother in enumerate(brothers):\n",
    "    print(index,brother)"
   ]
  },
  {
   "cell_type": "markdown",
   "id": "e4bee56e",
   "metadata": {},
   "source": [
    "<h1> Functions </h1>\n",
    "\n",
    "A function is a block of code which only runs when it is called. You can pass data, known as parameters, into a function. A function can return data as a result.\n",
    "\n",
    "In Python a function is defined using the <b>def</b> keyword:"
   ]
  },
  {
   "cell_type": "code",
   "execution_count": 180,
   "id": "a60b2e65",
   "metadata": {},
   "outputs": [],
   "source": [
    "def func():\n",
    "  print(\"Its a function\")"
   ]
  },
  {
   "cell_type": "code",
   "execution_count": 181,
   "id": "408b4811",
   "metadata": {},
   "outputs": [
    {
     "name": "stdout",
     "output_type": "stream",
     "text": [
      "Its a function\n"
     ]
    }
   ],
   "source": [
    "#calling a function\n",
    "func()"
   ]
  },
  {
   "cell_type": "markdown",
   "id": "3e837ad5",
   "metadata": {},
   "source": [
    "<b> Arguments </b>are specified after the function name, inside the parentheses. You can add as many arguments as you want, just separate them with a comma."
   ]
  },
  {
   "cell_type": "code",
   "execution_count": 76,
   "id": "bf1d143e",
   "metadata": {},
   "outputs": [
    {
     "name": "stdout",
     "output_type": "stream",
     "text": [
      "John Cena\n",
      "Shawn Cena\n",
      "Ryan Cena\n"
     ]
    }
   ],
   "source": [
    "def function(fname):\n",
    "  print(fname + \" Cena\")\n",
    "\n",
    "function(\"John\")\n",
    "function(\"Shawn\")\n",
    "function(\"Ryan\")"
   ]
  },
  {
   "cell_type": "markdown",
   "id": "90996515",
   "metadata": {},
   "source": [
    "You can also send arguments with the key = value syntax.\n",
    "This way the order of the arguments does not matter."
   ]
  },
  {
   "cell_type": "code",
   "execution_count": 78,
   "id": "71975349",
   "metadata": {},
   "outputs": [
    {
     "name": "stdout",
     "output_type": "stream",
     "text": [
      "The youngest child is Linus\n"
     ]
    }
   ],
   "source": [
    "def function(child3, child2, child1):\n",
    "  print(\"The youngest child is \" + child3)\n",
    "\n",
    "function(child1 = \"Emil\", child2 = \"Tobias\", child3 = \"Linus\")"
   ]
  },
  {
   "cell_type": "markdown",
   "id": "02987373",
   "metadata": {},
   "source": [
    "<b> Builtin functions </b> "
   ]
  },
  {
   "cell_type": "code",
   "execution_count": 79,
   "id": "f75686de",
   "metadata": {},
   "outputs": [
    {
     "data": {
      "text/plain": [
       "5"
      ]
     },
     "execution_count": 79,
     "metadata": {},
     "output_type": "execute_result"
    }
   ],
   "source": [
    "max([1,2,4,5]) #largest in list"
   ]
  },
  {
   "cell_type": "code",
   "execution_count": 80,
   "id": "8448e216",
   "metadata": {},
   "outputs": [
    {
     "data": {
      "text/plain": [
       "1"
      ]
     },
     "execution_count": 80,
     "metadata": {},
     "output_type": "execute_result"
    }
   ],
   "source": [
    "min([1,2,4,5])"
   ]
  },
  {
   "cell_type": "code",
   "execution_count": 81,
   "id": "c7e1cd13",
   "metadata": {},
   "outputs": [
    {
     "data": {
      "text/plain": [
       "5"
      ]
     },
     "execution_count": 81,
     "metadata": {},
     "output_type": "execute_result"
    }
   ],
   "source": [
    "len(\"Hello\") #length of string"
   ]
  },
  {
   "cell_type": "code",
   "execution_count": 82,
   "id": "416e7051",
   "metadata": {},
   "outputs": [
    {
     "data": {
      "text/plain": [
       "10"
      ]
     },
     "execution_count": 82,
     "metadata": {},
     "output_type": "execute_result"
    }
   ],
   "source": [
    "int(\"10\") #converts string 10 into integer"
   ]
  },
  {
   "cell_type": "code",
   "execution_count": 83,
   "id": "31cc8e4b",
   "metadata": {},
   "outputs": [
    {
     "ename": "ValueError",
     "evalue": "invalid literal for int() with base 10: 'Hello'",
     "output_type": "error",
     "traceback": [
      "\u001b[1;31m---------------------------------------------------------------------------\u001b[0m",
      "\u001b[1;31mValueError\u001b[0m                                Traceback (most recent call last)",
      "\u001b[1;32mC:\\Users\\Public\\Documents\\Wondershare\\CreatorTemp/ipykernel_11608/45454751.py\u001b[0m in \u001b[0;36m<module>\u001b[1;34m\u001b[0m\n\u001b[1;32m----> 1\u001b[1;33m \u001b[0mint\u001b[0m\u001b[1;33m(\u001b[0m\u001b[1;34m\"Hello\"\u001b[0m\u001b[1;33m)\u001b[0m\u001b[1;33m\u001b[0m\u001b[1;33m\u001b[0m\u001b[0m\n\u001b[0m",
      "\u001b[1;31mValueError\u001b[0m: invalid literal for int() with base 10: 'Hello'"
     ]
    }
   ],
   "source": [
    "int(\"Hello\")"
   ]
  },
  {
   "cell_type": "code",
   "execution_count": 84,
   "id": "b140a6a7",
   "metadata": {},
   "outputs": [
    {
     "data": {
      "text/plain": [
       "-2"
      ]
     },
     "execution_count": 84,
     "metadata": {},
     "output_type": "execute_result"
    }
   ],
   "source": [
    "int(-2.3) #float into integer"
   ]
  },
  {
   "cell_type": "code",
   "execution_count": 85,
   "id": "fc467b79",
   "metadata": {},
   "outputs": [
    {
     "data": {
      "text/plain": [
       "32.0"
      ]
     },
     "execution_count": 85,
     "metadata": {},
     "output_type": "execute_result"
    }
   ],
   "source": [
    "float(32) #integer into float"
   ]
  },
  {
   "cell_type": "code",
   "execution_count": 86,
   "id": "a5e8980b",
   "metadata": {},
   "outputs": [
    {
     "data": {
      "text/plain": [
       "'32'"
      ]
     },
     "execution_count": 86,
     "metadata": {},
     "output_type": "execute_result"
    }
   ],
   "source": [
    "str(32) #int to string"
   ]
  },
  {
   "cell_type": "markdown",
   "id": "f3a2ec3a",
   "metadata": {},
   "source": [
    "<b>Maths function</b>\n",
    "Python has module maths that provides mathematical functions"
   ]
  },
  {
   "cell_type": "code",
   "execution_count": 87,
   "id": "63f32d52",
   "metadata": {},
   "outputs": [],
   "source": [
    "import math"
   ]
  },
  {
   "cell_type": "code",
   "execution_count": 88,
   "id": "b8558bf4",
   "metadata": {},
   "outputs": [
    {
     "name": "stdout",
     "output_type": "stream",
     "text": [
      "<module 'math' (built-in)>\n"
     ]
    }
   ],
   "source": [
    "print(math)"
   ]
  },
  {
   "cell_type": "code",
   "execution_count": 89,
   "id": "ffaff32c",
   "metadata": {},
   "outputs": [
    {
     "data": {
      "text/plain": [
       "1.0"
      ]
     },
     "execution_count": 89,
     "metadata": {},
     "output_type": "execute_result"
    }
   ],
   "source": [
    " math.sqrt(4) / 2.0"
   ]
  },
  {
   "cell_type": "markdown",
   "id": "eaaa7966",
   "metadata": {},
   "source": [
    "You can use dir(module) to see all available methods/attributes. "
   ]
  },
  {
   "cell_type": "code",
   "execution_count": 92,
   "id": "a53d7247",
   "metadata": {},
   "outputs": [
    {
     "name": "stdout",
     "output_type": "stream",
     "text": [
      "['__doc__', '__loader__', '__name__', '__package__', '__spec__', 'acos', 'acosh', 'asin', 'asinh', 'atan', 'atan2', 'atanh', 'ceil', 'comb', 'copysign', 'cos', 'cosh', 'degrees', 'dist', 'e', 'erf', 'erfc', 'exp', 'expm1', 'fabs', 'factorial', 'floor', 'fmod', 'frexp', 'fsum', 'gamma', 'gcd', 'hypot', 'inf', 'isclose', 'isfinite', 'isinf', 'isnan', 'isqrt', 'ldexp', 'lgamma', 'log', 'log10', 'log1p', 'log2', 'modf', 'nan', 'perm', 'pi', 'pow', 'prod', 'radians', 'remainder', 'sin', 'sinh', 'sqrt', 'tan', 'tanh', 'tau', 'trunc']\n"
     ]
    }
   ],
   "source": [
    "print(dir(math))"
   ]
  },
  {
   "cell_type": "code",
   "execution_count": 94,
   "id": "37d023df",
   "metadata": {},
   "outputs": [
    {
     "name": "stdout",
     "output_type": "stream",
     "text": [
      "Help on built-in module math:\n",
      "\n",
      "NAME\n",
      "    math\n",
      "\n",
      "DESCRIPTION\n",
      "    This module provides access to the mathematical functions\n",
      "    defined by the C standard.\n",
      "\n",
      "FUNCTIONS\n",
      "    acos(x, /)\n",
      "        Return the arc cosine (measured in radians) of x.\n",
      "    \n",
      "    acosh(x, /)\n",
      "        Return the inverse hyperbolic cosine of x.\n",
      "    \n",
      "    asin(x, /)\n",
      "        Return the arc sine (measured in radians) of x.\n",
      "    \n",
      "    asinh(x, /)\n",
      "        Return the inverse hyperbolic sine of x.\n",
      "    \n",
      "    atan(x, /)\n",
      "        Return the arc tangent (measured in radians) of x.\n",
      "    \n",
      "    atan2(y, x, /)\n",
      "        Return the arc tangent (measured in radians) of y/x.\n",
      "        \n",
      "        Unlike atan(y/x), the signs of both x and y are considered.\n",
      "    \n",
      "    atanh(x, /)\n",
      "        Return the inverse hyperbolic tangent of x.\n",
      "    \n",
      "    ceil(x, /)\n",
      "        Return the ceiling of x as an Integral.\n",
      "        \n",
      "        This is the smallest integer >= x.\n",
      "    \n",
      "    comb(n, k, /)\n",
      "        Number of ways to choose k items from n items without repetition and without order.\n",
      "        \n",
      "        Evaluates to n! / (k! * (n - k)!) when k <= n and evaluates\n",
      "        to zero when k > n.\n",
      "        \n",
      "        Also called the binomial coefficient because it is equivalent\n",
      "        to the coefficient of k-th term in polynomial expansion of the\n",
      "        expression (1 + x)**n.\n",
      "        \n",
      "        Raises TypeError if either of the arguments are not integers.\n",
      "        Raises ValueError if either of the arguments are negative.\n",
      "    \n",
      "    copysign(x, y, /)\n",
      "        Return a float with the magnitude (absolute value) of x but the sign of y.\n",
      "        \n",
      "        On platforms that support signed zeros, copysign(1.0, -0.0)\n",
      "        returns -1.0.\n",
      "    \n",
      "    cos(x, /)\n",
      "        Return the cosine of x (measured in radians).\n",
      "    \n",
      "    cosh(x, /)\n",
      "        Return the hyperbolic cosine of x.\n",
      "    \n",
      "    degrees(x, /)\n",
      "        Convert angle x from radians to degrees.\n",
      "    \n",
      "    dist(p, q, /)\n",
      "        Return the Euclidean distance between two points p and q.\n",
      "        \n",
      "        The points should be specified as sequences (or iterables) of\n",
      "        coordinates.  Both inputs must have the same dimension.\n",
      "        \n",
      "        Roughly equivalent to:\n",
      "            sqrt(sum((px - qx) ** 2.0 for px, qx in zip(p, q)))\n",
      "    \n",
      "    erf(x, /)\n",
      "        Error function at x.\n",
      "    \n",
      "    erfc(x, /)\n",
      "        Complementary error function at x.\n",
      "    \n",
      "    exp(x, /)\n",
      "        Return e raised to the power of x.\n",
      "    \n",
      "    expm1(x, /)\n",
      "        Return exp(x)-1.\n",
      "        \n",
      "        This function avoids the loss of precision involved in the direct evaluation of exp(x)-1 for small x.\n",
      "    \n",
      "    fabs(x, /)\n",
      "        Return the absolute value of the float x.\n",
      "    \n",
      "    factorial(x, /)\n",
      "        Find x!.\n",
      "        \n",
      "        Raise a ValueError if x is negative or non-integral.\n",
      "    \n",
      "    floor(x, /)\n",
      "        Return the floor of x as an Integral.\n",
      "        \n",
      "        This is the largest integer <= x.\n",
      "    \n",
      "    fmod(x, y, /)\n",
      "        Return fmod(x, y), according to platform C.\n",
      "        \n",
      "        x % y may differ.\n",
      "    \n",
      "    frexp(x, /)\n",
      "        Return the mantissa and exponent of x, as pair (m, e).\n",
      "        \n",
      "        m is a float and e is an int, such that x = m * 2.**e.\n",
      "        If x is 0, m and e are both 0.  Else 0.5 <= abs(m) < 1.0.\n",
      "    \n",
      "    fsum(seq, /)\n",
      "        Return an accurate floating point sum of values in the iterable seq.\n",
      "        \n",
      "        Assumes IEEE-754 floating point arithmetic.\n",
      "    \n",
      "    gamma(x, /)\n",
      "        Gamma function at x.\n",
      "    \n",
      "    gcd(x, y, /)\n",
      "        greatest common divisor of x and y\n",
      "    \n",
      "    hypot(...)\n",
      "        hypot(*coordinates) -> value\n",
      "        \n",
      "        Multidimensional Euclidean distance from the origin to a point.\n",
      "        \n",
      "        Roughly equivalent to:\n",
      "            sqrt(sum(x**2 for x in coordinates))\n",
      "        \n",
      "        For a two dimensional point (x, y), gives the hypotenuse\n",
      "        using the Pythagorean theorem:  sqrt(x*x + y*y).\n",
      "        \n",
      "        For example, the hypotenuse of a 3/4/5 right triangle is:\n",
      "        \n",
      "            >>> hypot(3.0, 4.0)\n",
      "            5.0\n",
      "    \n",
      "    isclose(a, b, *, rel_tol=1e-09, abs_tol=0.0)\n",
      "        Determine whether two floating point numbers are close in value.\n",
      "        \n",
      "          rel_tol\n",
      "            maximum difference for being considered \"close\", relative to the\n",
      "            magnitude of the input values\n",
      "          abs_tol\n",
      "            maximum difference for being considered \"close\", regardless of the\n",
      "            magnitude of the input values\n",
      "        \n",
      "        Return True if a is close in value to b, and False otherwise.\n",
      "        \n",
      "        For the values to be considered close, the difference between them\n",
      "        must be smaller than at least one of the tolerances.\n",
      "        \n",
      "        -inf, inf and NaN behave similarly to the IEEE 754 Standard.  That\n",
      "        is, NaN is not close to anything, even itself.  inf and -inf are\n",
      "        only close to themselves.\n",
      "    \n",
      "    isfinite(x, /)\n",
      "        Return True if x is neither an infinity nor a NaN, and False otherwise.\n",
      "    \n",
      "    isinf(x, /)\n",
      "        Return True if x is a positive or negative infinity, and False otherwise.\n",
      "    \n",
      "    isnan(x, /)\n",
      "        Return True if x is a NaN (not a number), and False otherwise.\n",
      "    \n",
      "    isqrt(n, /)\n",
      "        Return the integer part of the square root of the input.\n",
      "    \n",
      "    ldexp(x, i, /)\n",
      "        Return x * (2**i).\n",
      "        \n",
      "        This is essentially the inverse of frexp().\n",
      "    \n",
      "    lgamma(x, /)\n",
      "        Natural logarithm of absolute value of Gamma function at x.\n",
      "    \n",
      "    log(...)\n",
      "        log(x, [base=math.e])\n",
      "        Return the logarithm of x to the given base.\n",
      "        \n",
      "        If the base not specified, returns the natural logarithm (base e) of x.\n",
      "    \n",
      "    log10(x, /)\n",
      "        Return the base 10 logarithm of x.\n",
      "    \n",
      "    log1p(x, /)\n",
      "        Return the natural logarithm of 1+x (base e).\n",
      "        \n",
      "        The result is computed in a way which is accurate for x near zero.\n",
      "    \n",
      "    log2(x, /)\n",
      "        Return the base 2 logarithm of x.\n",
      "    \n",
      "    modf(x, /)\n",
      "        Return the fractional and integer parts of x.\n",
      "        \n",
      "        Both results carry the sign of x and are floats.\n",
      "    \n",
      "    perm(n, k=None, /)\n",
      "        Number of ways to choose k items from n items without repetition and with order.\n",
      "        \n",
      "        Evaluates to n! / (n - k)! when k <= n and evaluates\n",
      "        to zero when k > n.\n",
      "        \n",
      "        If k is not specified or is None, then k defaults to n\n",
      "        and the function returns n!.\n",
      "        \n",
      "        Raises TypeError if either of the arguments are not integers.\n",
      "        Raises ValueError if either of the arguments are negative.\n",
      "    \n",
      "    pow(x, y, /)\n",
      "        Return x**y (x to the power of y).\n",
      "    \n",
      "    prod(iterable, /, *, start=1)\n",
      "        Calculate the product of all the elements in the input iterable.\n",
      "        \n",
      "        The default start value for the product is 1.\n",
      "        \n",
      "        When the iterable is empty, return the start value.  This function is\n",
      "        intended specifically for use with numeric values and may reject\n",
      "        non-numeric types.\n",
      "    \n",
      "    radians(x, /)\n",
      "        Convert angle x from degrees to radians.\n",
      "    \n",
      "    remainder(x, y, /)\n",
      "        Difference between x and the closest integer multiple of y.\n",
      "        \n",
      "        Return x - n*y where n*y is the closest integer multiple of y.\n",
      "        In the case where x is exactly halfway between two multiples of\n",
      "        y, the nearest even value of n is used. The result is always exact.\n",
      "    \n",
      "    sin(x, /)\n",
      "        Return the sine of x (measured in radians).\n",
      "    \n",
      "    sinh(x, /)\n",
      "        Return the hyperbolic sine of x.\n",
      "    \n",
      "    sqrt(x, /)\n",
      "        Return the square root of x.\n",
      "    \n",
      "    tan(x, /)\n",
      "        Return the tangent of x (measured in radians).\n",
      "    \n",
      "    tanh(x, /)\n",
      "        Return the hyperbolic tangent of x.\n",
      "    \n",
      "    trunc(x, /)\n",
      "        Truncates the Real x to the nearest Integral toward 0.\n",
      "        \n",
      "        Uses the __trunc__ magic method.\n",
      "\n",
      "DATA\n",
      "    e = 2.718281828459045\n",
      "    inf = inf\n",
      "    nan = nan\n",
      "    pi = 3.141592653589793\n",
      "    tau = 6.283185307179586\n",
      "\n",
      "FILE\n",
      "    (built-in)\n",
      "\n",
      "\n"
     ]
    }
   ],
   "source": [
    "help(math) #detailed"
   ]
  },
  {
   "cell_type": "markdown",
   "id": "07a8c39a",
   "metadata": {},
   "source": [
    "<h1> Lists </h1>\n",
    "\n",
    "A list is a collection which is ordered and changeable. In Python, list is equivalent of an array, but is resizeable and can contain elements of different types.\n",
    "\n",
    "In Python lists are written with square brackets. Lets create a list:\n"
   ]
  },
  {
   "cell_type": "code",
   "execution_count": 95,
   "id": "77320cab",
   "metadata": {},
   "outputs": [
    {
     "name": "stdout",
     "output_type": "stream",
     "text": [
      "[2, 4, 6, 8]\n"
     ]
    }
   ],
   "source": [
    "x = [2,4,6,8]\n",
    "print(x)"
   ]
  },
  {
   "cell_type": "code",
   "execution_count": 96,
   "id": "529ca652",
   "metadata": {},
   "outputs": [
    {
     "data": {
      "text/plain": [
       "4"
      ]
     },
     "execution_count": 96,
     "metadata": {},
     "output_type": "execute_result"
    }
   ],
   "source": [
    "x[1] #prints second item"
   ]
  },
  {
   "cell_type": "code",
   "execution_count": 97,
   "id": "bf603a4c",
   "metadata": {},
   "outputs": [
    {
     "data": {
      "text/plain": [
       "8"
      ]
     },
     "execution_count": 97,
     "metadata": {},
     "output_type": "execute_result"
    }
   ],
   "source": [
    "x[-1] #prints last item i.e. negative indexing"
   ]
  },
  {
   "cell_type": "code",
   "execution_count": 98,
   "id": "9690b102",
   "metadata": {},
   "outputs": [
    {
     "data": {
      "text/plain": [
       "[2, 4, 6, 8, 1, 3, 5, 7]"
      ]
     },
     "execution_count": 98,
     "metadata": {},
     "output_type": "execute_result"
    }
   ],
   "source": [
    "y = [1,3,5,7]\n",
    "\n",
    "x+y #concatenates two list"
   ]
  },
  {
   "cell_type": "code",
   "execution_count": 99,
   "id": "06956ef7",
   "metadata": {},
   "outputs": [
    {
     "data": {
      "text/plain": [
       "[2, 4, 6, 8, 2, 4, 6, 8, 2, 4, 6, 8]"
      ]
     },
     "execution_count": 99,
     "metadata": {},
     "output_type": "execute_result"
    }
   ],
   "source": [
    "x*3 #repeats given times"
   ]
  },
  {
   "cell_type": "markdown",
   "id": "119efe96",
   "metadata": {},
   "source": [
    "A list can contain elements of different types. For example:"
   ]
  },
  {
   "cell_type": "code",
   "execution_count": 100,
   "id": "fcb1a6fd",
   "metadata": {},
   "outputs": [],
   "source": [
    "X = [2,4,2.6,\"Hello\"]"
   ]
  },
  {
   "cell_type": "code",
   "execution_count": 101,
   "id": "453f2909",
   "metadata": {},
   "outputs": [
    {
     "data": {
      "text/plain": [
       "int"
      ]
     },
     "execution_count": 101,
     "metadata": {},
     "output_type": "execute_result"
    }
   ],
   "source": [
    "type(X[1])"
   ]
  },
  {
   "cell_type": "code",
   "execution_count": 102,
   "id": "693cae9c",
   "metadata": {},
   "outputs": [
    {
     "data": {
      "text/plain": [
       "float"
      ]
     },
     "execution_count": 102,
     "metadata": {},
     "output_type": "execute_result"
    }
   ],
   "source": [
    "type(X[2])"
   ]
  },
  {
   "cell_type": "markdown",
   "id": "4f2fa073",
   "metadata": {},
   "source": [
    "To add an entry at the end of list use method append()"
   ]
  },
  {
   "cell_type": "code",
   "execution_count": 103,
   "id": "a2bcf3c4",
   "metadata": {},
   "outputs": [],
   "source": [
    "X.append(\"World\") #adds a new entry at the in the list"
   ]
  },
  {
   "cell_type": "code",
   "execution_count": 104,
   "id": "38611411",
   "metadata": {},
   "outputs": [
    {
     "name": "stdout",
     "output_type": "stream",
     "text": [
      "[2, 4, 2.6, 'Hello', 'World']\n"
     ]
    }
   ],
   "source": [
    "print(X)"
   ]
  },
  {
   "cell_type": "markdown",
   "id": "12a5094c",
   "metadata": {},
   "source": [
    "To add an item at the specified index, use the insert() method:"
   ]
  },
  {
   "cell_type": "code",
   "execution_count": 106,
   "id": "74c0fbb8",
   "metadata": {},
   "outputs": [],
   "source": [
    "X.insert(1,\"Hi\") #insert string \"Hi\" at second position"
   ]
  },
  {
   "cell_type": "code",
   "execution_count": 107,
   "id": "9138a8ac",
   "metadata": {},
   "outputs": [
    {
     "name": "stdout",
     "output_type": "stream",
     "text": [
      "[2, 'Hi', 4, 2.6, 'Hello', 'World']\n"
     ]
    }
   ],
   "source": [
    "print(X)"
   ]
  },
  {
   "cell_type": "markdown",
   "id": "2c3b1d91",
   "metadata": {},
   "source": [
    "The remove() method removes the specified item:"
   ]
  },
  {
   "cell_type": "code",
   "execution_count": 109,
   "id": "f763517f",
   "metadata": {},
   "outputs": [],
   "source": [
    "X.remove(\"World\")"
   ]
  },
  {
   "cell_type": "code",
   "execution_count": 110,
   "id": "ba507333",
   "metadata": {},
   "outputs": [
    {
     "name": "stdout",
     "output_type": "stream",
     "text": [
      "[2, 'Hi', 4, 2.6, 'Hello']\n"
     ]
    }
   ],
   "source": [
    "print(X)"
   ]
  },
  {
   "cell_type": "code",
   "execution_count": 111,
   "id": "dd10fcef",
   "metadata": {},
   "outputs": [
    {
     "data": {
      "text/plain": [
       "5"
      ]
     },
     "execution_count": 111,
     "metadata": {},
     "output_type": "execute_result"
    }
   ],
   "source": [
    "len(X) #length of list"
   ]
  },
  {
   "cell_type": "markdown",
   "id": "cb123556",
   "metadata": {},
   "source": [
    "<b> Slicing </b>\n",
    "\n",
    "You can specify a range of indexes by specifying where to start and where to end the range.\n",
    "\n",
    "When specifying a range, the return value will be a new list with the specified items."
   ]
  },
  {
   "cell_type": "code",
   "execution_count": 112,
   "id": "b2663c24",
   "metadata": {},
   "outputs": [
    {
     "name": "stdout",
     "output_type": "stream",
     "text": [
      "['cherry', 'orange', 'kiwi']\n"
     ]
    }
   ],
   "source": [
    "thislist = [\"apple\", \"banana\", \"cherry\", \"orange\", \"kiwi\", \"melon\", \"mango\"]\n",
    "print(thislist[2:5])"
   ]
  },
  {
   "cell_type": "code",
   "execution_count": 113,
   "id": "7e503e4a",
   "metadata": {},
   "outputs": [
    {
     "name": "stdout",
     "output_type": "stream",
     "text": [
      "['apple', 'banana', 'cherry', 'orange']\n"
     ]
    }
   ],
   "source": [
    "print(thislist[:4]) #beginning to the 4th item"
   ]
  },
  {
   "cell_type": "code",
   "execution_count": 114,
   "id": "58a3f27b",
   "metadata": {},
   "outputs": [
    {
     "name": "stdout",
     "output_type": "stream",
     "text": [
      "['kiwi', 'melon', 'mango']\n"
     ]
    }
   ],
   "source": [
    "print(thislist[4:]) #from 4th to end of list"
   ]
  },
  {
   "cell_type": "code",
   "execution_count": 115,
   "id": "a4255177",
   "metadata": {},
   "outputs": [],
   "source": [
    "thislist[0] = \"grapes\" #changes 0th index i.e. apple to grapes"
   ]
  },
  {
   "cell_type": "code",
   "execution_count": 116,
   "id": "a2f2880d",
   "metadata": {},
   "outputs": [
    {
     "name": "stdout",
     "output_type": "stream",
     "text": [
      "['grapes', 'banana', 'cherry', 'orange', 'kiwi', 'melon', 'mango']\n"
     ]
    }
   ],
   "source": [
    "print(thislist)"
   ]
  },
  {
   "cell_type": "markdown",
   "id": "7d2985fe",
   "metadata": {},
   "source": [
    "Iterating through a list"
   ]
  },
  {
   "cell_type": "code",
   "execution_count": 117,
   "id": "71344b22",
   "metadata": {},
   "outputs": [
    {
     "name": "stdout",
     "output_type": "stream",
     "text": [
      "Kiwi available\n"
     ]
    }
   ],
   "source": [
    "for fruit in thislist:\n",
    "    if fruit == \"kiwi\":\n",
    "        print(\"Kiwi available\")"
   ]
  },
  {
   "cell_type": "markdown",
   "id": "c67ed13d",
   "metadata": {},
   "source": [
    "A list can also contain <b>list of lists</b>. For example:"
   ]
  },
  {
   "cell_type": "code",
   "execution_count": 118,
   "id": "3d8d4a61",
   "metadata": {},
   "outputs": [
    {
     "data": {
      "text/plain": [
       "['A', 'B', 'C', 'D']"
      ]
     },
     "execution_count": 118,
     "metadata": {},
     "output_type": "execute_result"
    }
   ],
   "source": [
    "new_list = [[1,2,3,4],[2.0,3.0,4.0],[\"A\",\"B\",\"C\",\"D\"]]\n",
    "new_list[2]"
   ]
  },
  {
   "cell_type": "markdown",
   "id": "34664d2a",
   "metadata": {},
   "source": [
    "While indexing is used to obtain individual characters, slicing allows you to obtain substring:"
   ]
  },
  {
   "cell_type": "code",
   "execution_count": 119,
   "id": "a698971a",
   "metadata": {},
   "outputs": [
    {
     "name": "stdout",
     "output_type": "stream",
     "text": [
      "Py\n",
      "tho\n"
     ]
    }
   ],
   "source": [
    "word = 'Python'\n",
    "print(word[0:2])  # characters from position 0 (included) to 2 (excluded)\n",
    "print(word[2:5])  # characters from position 2 (included) to 5 (excluded)"
   ]
  },
  {
   "cell_type": "markdown",
   "id": "f0fcafe9",
   "metadata": {},
   "source": [
    "Slice indices have useful defaults; an omitted first index defaults to zero, an omitted second index defaults to the size of the string being sliced."
   ]
  },
  {
   "cell_type": "code",
   "execution_count": 120,
   "id": "00ddc8ba",
   "metadata": {},
   "outputs": [
    {
     "data": {
      "text/plain": [
       "'Py'"
      ]
     },
     "execution_count": 120,
     "metadata": {},
     "output_type": "execute_result"
    }
   ],
   "source": [
    "word[:2]   # character from the beginning to position 2 (excluded)"
   ]
  },
  {
   "cell_type": "code",
   "execution_count": 121,
   "id": "80bfef51",
   "metadata": {},
   "outputs": [
    {
     "data": {
      "text/plain": [
       "'on'"
      ]
     },
     "execution_count": 121,
     "metadata": {},
     "output_type": "execute_result"
    }
   ],
   "source": [
    "word[4:]   # characters from position 4 (included) to the end"
   ]
  },
  {
   "cell_type": "code",
   "execution_count": 122,
   "id": "6f19387e",
   "metadata": {},
   "outputs": [
    {
     "data": {
      "text/plain": [
       "'on'"
      ]
     },
     "execution_count": 122,
     "metadata": {},
     "output_type": "execute_result"
    }
   ],
   "source": [
    "word[-2:]  # characters from the second-last (included) to the end"
   ]
  },
  {
   "cell_type": "markdown",
   "id": "1352944b",
   "metadata": {},
   "source": [
    "Note how the start is always included, and the end always excluded. This makes sure that s[:i] + s[i:] is always equal to s:"
   ]
  },
  {
   "cell_type": "code",
   "execution_count": 123,
   "id": "3624d380",
   "metadata": {},
   "outputs": [
    {
     "data": {
      "text/plain": [
       "'Python'"
      ]
     },
     "execution_count": 123,
     "metadata": {},
     "output_type": "execute_result"
    }
   ],
   "source": [
    "word[:2] + word[2:]"
   ]
  },
  {
   "cell_type": "code",
   "execution_count": 124,
   "id": "ae9c60e8",
   "metadata": {},
   "outputs": [
    {
     "data": {
      "text/plain": [
       "'Python'"
      ]
     },
     "execution_count": 124,
     "metadata": {},
     "output_type": "execute_result"
    }
   ],
   "source": [
    "word[:4] + word[4:]"
   ]
  },
  {
   "cell_type": "markdown",
   "id": "5075fd8c",
   "metadata": {},
   "source": [
    "The built-in function len() returns the length of a string:"
   ]
  },
  {
   "cell_type": "code",
   "execution_count": 125,
   "id": "b9d84667",
   "metadata": {},
   "outputs": [
    {
     "data": {
      "text/plain": [
       "26"
      ]
     },
     "execution_count": 125,
     "metadata": {},
     "output_type": "execute_result"
    }
   ],
   "source": [
    "s = 'abcdefghijklmnopqrstuvwxyz'\n",
    "len(s)"
   ]
  },
  {
   "cell_type": "markdown",
   "id": "49a5e95b",
   "metadata": {},
   "source": [
    "Lists also support operations like concatenation:"
   ]
  },
  {
   "cell_type": "code",
   "execution_count": 126,
   "id": "dc5a2fcd",
   "metadata": {},
   "outputs": [
    {
     "data": {
      "text/plain": [
       "[1, 4, 9, 16, 25]"
      ]
     },
     "execution_count": 126,
     "metadata": {},
     "output_type": "execute_result"
    }
   ],
   "source": [
    "squares = [1, 4, 9, 16, 25]\n",
    "squares"
   ]
  },
  {
   "cell_type": "code",
   "execution_count": 127,
   "id": "92fcbc7b",
   "metadata": {},
   "outputs": [
    {
     "data": {
      "text/plain": [
       "[1, 4, 9, 16, 25, 36, 49, 64, 81, 100]"
      ]
     },
     "execution_count": 127,
     "metadata": {},
     "output_type": "execute_result"
    }
   ],
   "source": [
    "squares + [36, 49, 64, 81, 100]"
   ]
  },
  {
   "cell_type": "markdown",
   "id": "3941dd63",
   "metadata": {},
   "source": [
    "Assignment to slices is also possible, and this can even change the size of the list or clear it entirely:"
   ]
  },
  {
   "cell_type": "code",
   "execution_count": 128,
   "id": "0305ad78",
   "metadata": {},
   "outputs": [
    {
     "data": {
      "text/plain": [
       "['a', 'b', 'c', 'd', 'e', 'f', 'g']"
      ]
     },
     "execution_count": 128,
     "metadata": {},
     "output_type": "execute_result"
    }
   ],
   "source": [
    "letters = ['a', 'b', 'c', 'd', 'e', 'f', 'g']\n",
    "letters"
   ]
  },
  {
   "cell_type": "code",
   "execution_count": 129,
   "id": "a1b1e711",
   "metadata": {},
   "outputs": [
    {
     "data": {
      "text/plain": [
       "['a', 'b', 'C', 'D', 'E', 'f', 'g']"
      ]
     },
     "execution_count": 129,
     "metadata": {},
     "output_type": "execute_result"
    }
   ],
   "source": [
    "# replace some values\n",
    "letters[2:5] = ['C', 'D', 'E']\n",
    "letters"
   ]
  },
  {
   "cell_type": "code",
   "execution_count": 130,
   "id": "31c3b2b7",
   "metadata": {},
   "outputs": [
    {
     "data": {
      "text/plain": [
       "['a', 'b', 'f', 'g']"
      ]
     },
     "execution_count": 130,
     "metadata": {},
     "output_type": "execute_result"
    }
   ],
   "source": [
    "# now remove them\n",
    "letters[2:5] = []\n",
    "letters"
   ]
  },
  {
   "cell_type": "code",
   "execution_count": 131,
   "id": "8b5d6f60",
   "metadata": {},
   "outputs": [
    {
     "data": {
      "text/plain": [
       "[]"
      ]
     },
     "execution_count": 131,
     "metadata": {},
     "output_type": "execute_result"
    }
   ],
   "source": [
    "# clear the list by replacing all the elements with an empty list\n",
    "letters[:] = []\n",
    "letters"
   ]
  },
  {
   "cell_type": "markdown",
   "id": "539ac742",
   "metadata": {},
   "source": [
    "<h1> Dictionaries </h1>\n",
    "\n",
    "A dictionary is like a list, but more general. In a list, the index positions have to be integers; in a dictionary, the indices can be (almost) any type.\n",
    "You can think of a dictionary as a mapping between a set of indices (which are\n",
    "called keys) and a set of values. Each key maps to a value. The association of a\n",
    "key and a value is called a key-value pair or sometimes an item </br>\n",
    "\n",
    "Example: A dictionary is created by curly brackets {}."
   ]
  },
  {
   "cell_type": "code",
   "execution_count": 132,
   "id": "53bd2e76",
   "metadata": {},
   "outputs": [
    {
     "data": {
      "text/plain": [
       "dict"
      ]
     },
     "execution_count": 132,
     "metadata": {},
     "output_type": "execute_result"
    }
   ],
   "source": [
    "myDict = {} #any empy dictionary\n",
    "type(myDict)"
   ]
  },
  {
   "cell_type": "code",
   "execution_count": 133,
   "id": "298e7e0a",
   "metadata": {},
   "outputs": [
    {
     "name": "stdout",
     "output_type": "stream",
     "text": [
      "{'name': 'john', 'age': 22}\n"
     ]
    }
   ],
   "source": [
    "myDict = {'name':'john', 'age':22}\n",
    "print(myDict)"
   ]
  },
  {
   "cell_type": "markdown",
   "id": "c315412d",
   "metadata": {},
   "source": [
    "<b>Accessing Items </b>\n",
    "You can access the items of a dictionary by referring to its key name, inside square brackets:"
   ]
  },
  {
   "cell_type": "code",
   "execution_count": 134,
   "id": "d052244f",
   "metadata": {},
   "outputs": [
    {
     "data": {
      "text/plain": [
       "'john'"
      ]
     },
     "execution_count": 134,
     "metadata": {},
     "output_type": "execute_result"
    }
   ],
   "source": [
    "myDict['name']"
   ]
  },
  {
   "cell_type": "code",
   "execution_count": 135,
   "id": "036238c2",
   "metadata": {},
   "outputs": [
    {
     "data": {
      "text/plain": [
       "22"
      ]
     },
     "execution_count": 135,
     "metadata": {},
     "output_type": "execute_result"
    }
   ],
   "source": [
    "myDict['age']"
   ]
  },
  {
   "cell_type": "markdown",
   "id": "d1090bcd",
   "metadata": {},
   "source": [
    "There is also a method called get() that will give you the same result:"
   ]
  },
  {
   "cell_type": "code",
   "execution_count": 137,
   "id": "26e69090",
   "metadata": {},
   "outputs": [
    {
     "data": {
      "text/plain": [
       "'john'"
      ]
     },
     "execution_count": 137,
     "metadata": {},
     "output_type": "execute_result"
    }
   ],
   "source": [
    "myDict.get(\"name\")"
   ]
  },
  {
   "cell_type": "code",
   "execution_count": 138,
   "id": "b228262d",
   "metadata": {},
   "outputs": [
    {
     "data": {
      "text/plain": [
       "22"
      ]
     },
     "execution_count": 138,
     "metadata": {},
     "output_type": "execute_result"
    }
   ],
   "source": [
    "myDict.get(\"age\")"
   ]
  },
  {
   "cell_type": "markdown",
   "id": "f72aaf7f",
   "metadata": {},
   "source": [
    "<b>Updating Values </b>\n",
    "You can change the value of a specific item by referring to its key name:"
   ]
  },
  {
   "cell_type": "code",
   "execution_count": 139,
   "id": "614fbdc0",
   "metadata": {},
   "outputs": [],
   "source": [
    "myDict['age'] = 23"
   ]
  },
  {
   "cell_type": "code",
   "execution_count": 140,
   "id": "2468ecd5",
   "metadata": {},
   "outputs": [
    {
     "data": {
      "text/plain": [
       "23"
      ]
     },
     "execution_count": 140,
     "metadata": {},
     "output_type": "execute_result"
    }
   ],
   "source": [
    "myDict['age']"
   ]
  },
  {
   "cell_type": "markdown",
   "id": "65db1521",
   "metadata": {},
   "source": [
    "you can also update using update method. Plus, it can also add another key-value in the dictionary too."
   ]
  },
  {
   "cell_type": "code",
   "execution_count": 142,
   "id": "0599bd4f",
   "metadata": {},
   "outputs": [],
   "source": [
    "myDict.update({'age':24,'country':'USA'})"
   ]
  },
  {
   "cell_type": "code",
   "execution_count": 143,
   "id": "baf315b3",
   "metadata": {},
   "outputs": [
    {
     "data": {
      "text/plain": [
       "{'name': 'john', 'age': 24, 'country': 'USA'}"
      ]
     },
     "execution_count": 143,
     "metadata": {},
     "output_type": "execute_result"
    }
   ],
   "source": [
    "myDict"
   ]
  },
  {
   "cell_type": "markdown",
   "id": "325782a0",
   "metadata": {},
   "source": [
    "<b>Loop Through a Dictionary</b>"
   ]
  },
  {
   "cell_type": "code",
   "execution_count": 144,
   "id": "e29394eb",
   "metadata": {},
   "outputs": [
    {
     "name": "stdout",
     "output_type": "stream",
     "text": [
      "name\n",
      "age\n",
      "country\n"
     ]
    }
   ],
   "source": [
    "for x in myDict:\n",
    "  print(x)      #prints keys"
   ]
  },
  {
   "cell_type": "code",
   "execution_count": 145,
   "id": "1ac2f196",
   "metadata": {},
   "outputs": [
    {
     "name": "stdout",
     "output_type": "stream",
     "text": [
      "john\n",
      "24\n",
      "USA\n"
     ]
    }
   ],
   "source": [
    "for x in myDict:\n",
    "  print(myDict[x])"
   ]
  },
  {
   "cell_type": "code",
   "execution_count": 146,
   "id": "9d119249",
   "metadata": {},
   "outputs": [
    {
     "name": "stdout",
     "output_type": "stream",
     "text": [
      "john\n",
      "24\n",
      "USA\n"
     ]
    }
   ],
   "source": [
    "#You can also use the values() method to return values of a dictionary:\n",
    "for x in myDict.values():\n",
    "  print(x)      #prints values"
   ]
  },
  {
   "cell_type": "code",
   "execution_count": 147,
   "id": "c7fff4d3",
   "metadata": {},
   "outputs": [
    {
     "name": "stdout",
     "output_type": "stream",
     "text": [
      "name john\n",
      "age 24\n",
      "country USA\n"
     ]
    }
   ],
   "source": [
    "#Loop through both keys and values, by using the items() method:\n",
    "for x, y in myDict.items():\n",
    "  print(x, y)"
   ]
  },
  {
   "cell_type": "markdown",
   "id": "37442065",
   "metadata": {},
   "source": [
    "<b> Check if Key Exists </b>"
   ]
  },
  {
   "cell_type": "code",
   "execution_count": 148,
   "id": "3f0c624d",
   "metadata": {},
   "outputs": [
    {
     "name": "stdout",
     "output_type": "stream",
     "text": [
      "Key not found\n"
     ]
    }
   ],
   "source": [
    "if 'DOB' in myDict:\n",
    "    print(\"Keys found\")\n",
    "else:\n",
    "    print(\"Key not found\")"
   ]
  },
  {
   "cell_type": "markdown",
   "id": "543bff1a",
   "metadata": {},
   "source": [
    "<b>Adding Items</b>"
   ]
  },
  {
   "cell_type": "code",
   "execution_count": 149,
   "id": "f6de4b11",
   "metadata": {},
   "outputs": [],
   "source": [
    "myDict['DOB'] = 'Feb 26'"
   ]
  },
  {
   "cell_type": "code",
   "execution_count": 150,
   "id": "b12f234b",
   "metadata": {},
   "outputs": [],
   "source": [
    "myDict['YOB'] = '1997'"
   ]
  },
  {
   "cell_type": "code",
   "execution_count": 151,
   "id": "63859c5c",
   "metadata": {},
   "outputs": [
    {
     "data": {
      "text/plain": [
       "{'name': 'john', 'age': 24, 'country': 'USA', 'DOB': 'Feb 26', 'YOB': '1997'}"
      ]
     },
     "execution_count": 151,
     "metadata": {},
     "output_type": "execute_result"
    }
   ],
   "source": [
    "myDict"
   ]
  },
  {
   "cell_type": "markdown",
   "id": "fc78d681",
   "metadata": {},
   "source": [
    "<b> Removing Item </b>\n",
    "The pop() method removes the item with the specified key name:"
   ]
  },
  {
   "cell_type": "code",
   "execution_count": 152,
   "id": "f5c59417",
   "metadata": {},
   "outputs": [
    {
     "data": {
      "text/plain": [
       "'1997'"
      ]
     },
     "execution_count": 152,
     "metadata": {},
     "output_type": "execute_result"
    }
   ],
   "source": [
    "myDict.pop(\"YOB\")"
   ]
  },
  {
   "cell_type": "code",
   "execution_count": 153,
   "id": "69ecf6b9",
   "metadata": {},
   "outputs": [
    {
     "data": {
      "text/plain": [
       "{'name': 'john', 'age': 24, 'country': 'USA', 'DOB': 'Feb 26'}"
      ]
     },
     "execution_count": 153,
     "metadata": {},
     "output_type": "execute_result"
    }
   ],
   "source": [
    "myDict"
   ]
  },
  {
   "cell_type": "code",
   "execution_count": 154,
   "id": "5297f267",
   "metadata": {},
   "outputs": [
    {
     "data": {
      "text/plain": [
       "('DOB', 'Feb 26')"
      ]
     },
     "execution_count": 154,
     "metadata": {},
     "output_type": "execute_result"
    }
   ],
   "source": [
    "myDict.popitem() #removes last inserted item\n",
    "\n",
    "#Note: in versions before 3.7, a random item is removed instead)"
   ]
  },
  {
   "cell_type": "code",
   "execution_count": 155,
   "id": "a245d960",
   "metadata": {},
   "outputs": [
    {
     "data": {
      "text/plain": [
       "{'name': 'john', 'age': 24, 'country': 'USA'}"
      ]
     },
     "execution_count": 155,
     "metadata": {},
     "output_type": "execute_result"
    }
   ],
   "source": [
    "myDict"
   ]
  },
  {
   "cell_type": "markdown",
   "id": "6fc6795b",
   "metadata": {},
   "source": [
    "The <b>del</b> keyword removes the item with the specified key name:"
   ]
  },
  {
   "cell_type": "code",
   "execution_count": 156,
   "id": "70446aad",
   "metadata": {},
   "outputs": [],
   "source": [
    "del myDict[\"age\"]"
   ]
  },
  {
   "cell_type": "code",
   "execution_count": 157,
   "id": "686456f4",
   "metadata": {},
   "outputs": [
    {
     "data": {
      "text/plain": [
       "{'name': 'john', 'country': 'USA'}"
      ]
     },
     "execution_count": 157,
     "metadata": {},
     "output_type": "execute_result"
    }
   ],
   "source": [
    "myDict"
   ]
  },
  {
   "cell_type": "markdown",
   "id": "7a0dc5ef",
   "metadata": {},
   "source": [
    "Make a <b>copy</b> of a dictionary with the copy() method:"
   ]
  },
  {
   "cell_type": "code",
   "execution_count": 159,
   "id": "7765c44a",
   "metadata": {},
   "outputs": [],
   "source": [
    "newDict = myDict.copy()"
   ]
  },
  {
   "cell_type": "code",
   "execution_count": 160,
   "id": "7d01692c",
   "metadata": {},
   "outputs": [
    {
     "data": {
      "text/plain": [
       "{'name': 'john', 'country': 'USA'}"
      ]
     },
     "execution_count": 160,
     "metadata": {},
     "output_type": "execute_result"
    }
   ],
   "source": [
    "newDict"
   ]
  },
  {
   "cell_type": "code",
   "execution_count": 161,
   "id": "a4762788",
   "metadata": {},
   "outputs": [
    {
     "data": {
      "text/plain": [
       "{'name': 'john', 'country': 'USA'}"
      ]
     },
     "execution_count": 161,
     "metadata": {},
     "output_type": "execute_result"
    }
   ],
   "source": [
    "myDict"
   ]
  },
  {
   "cell_type": "markdown",
   "id": "580275fd",
   "metadata": {},
   "source": [
    "<b> clear() </b> will epmty the dictionary and <b>del</b> keyword will delete the dictionary "
   ]
  },
  {
   "cell_type": "code",
   "execution_count": 162,
   "id": "31c50fee",
   "metadata": {},
   "outputs": [],
   "source": [
    "newDict.clear()"
   ]
  },
  {
   "cell_type": "code",
   "execution_count": 163,
   "id": "7cf0bdf6",
   "metadata": {},
   "outputs": [
    {
     "data": {
      "text/plain": [
       "{}"
      ]
     },
     "execution_count": 163,
     "metadata": {},
     "output_type": "execute_result"
    }
   ],
   "source": [
    "newDict"
   ]
  },
  {
   "cell_type": "code",
   "execution_count": 164,
   "id": "b83a920d",
   "metadata": {},
   "outputs": [],
   "source": [
    "del newDict"
   ]
  },
  {
   "cell_type": "code",
   "execution_count": 165,
   "id": "c8813d26",
   "metadata": {},
   "outputs": [
    {
     "ename": "NameError",
     "evalue": "name 'newDict' is not defined",
     "output_type": "error",
     "traceback": [
      "\u001b[1;31m---------------------------------------------------------------------------\u001b[0m",
      "\u001b[1;31mNameError\u001b[0m                                 Traceback (most recent call last)",
      "\u001b[1;32mC:\\Users\\Public\\Documents\\Wondershare\\CreatorTemp/ipykernel_11608/2803309673.py\u001b[0m in \u001b[0;36m<module>\u001b[1;34m\u001b[0m\n\u001b[1;32m----> 1\u001b[1;33m \u001b[0mnewDict\u001b[0m \u001b[1;31m#wont print because dictionary has been deleted in above cell\u001b[0m\u001b[1;33m\u001b[0m\u001b[1;33m\u001b[0m\u001b[0m\n\u001b[0m",
      "\u001b[1;31mNameError\u001b[0m: name 'newDict' is not defined"
     ]
    }
   ],
   "source": [
    "newDict #wont print because dictionary has been deleted in above cell"
   ]
  },
  {
   "cell_type": "markdown",
   "id": "afbd37d9",
   "metadata": {},
   "source": [
    "<b> Nested Dictionaries </b>"
   ]
  },
  {
   "cell_type": "code",
   "execution_count": 166,
   "id": "870f2678",
   "metadata": {},
   "outputs": [],
   "source": [
    "myfamily = {\n",
    "  \"child1\" : {\n",
    "    \"name\" : \"Emil\",\n",
    "    \"year\" : 2004\n",
    "  },\n",
    "  \"child2\" : {\n",
    "    \"name\" : \"Tobias\",\n",
    "    \"year\" : 2007\n",
    "  },\n",
    "  \"child3\" : {\n",
    "    \"name\" : \"Linus\",\n",
    "    \"year\" : 2011\n",
    "  }\n",
    "}"
   ]
  },
  {
   "cell_type": "code",
   "execution_count": 167,
   "id": "db396356",
   "metadata": {},
   "outputs": [
    {
     "data": {
      "text/plain": [
       "{'child1': {'name': 'Emil', 'year': 2004},\n",
       " 'child2': {'name': 'Tobias', 'year': 2007},\n",
       " 'child3': {'name': 'Linus', 'year': 2011}}"
      ]
     },
     "execution_count": 167,
     "metadata": {},
     "output_type": "execute_result"
    }
   ],
   "source": [
    "myfamily"
   ]
  },
  {
   "cell_type": "markdown",
   "id": "195d7020",
   "metadata": {},
   "source": [
    "Another way of creating nested dictionaries is to create three dictionaries separtely and then create one separately to contains them"
   ]
  },
  {
   "cell_type": "code",
   "execution_count": 168,
   "id": "39088270",
   "metadata": {},
   "outputs": [],
   "source": [
    "child1 = {\n",
    "  \"name\" : \"Emil\",\n",
    "  \"year\" : 2004\n",
    "}\n",
    "child2 = {\n",
    "  \"name\" : \"Tobias\",\n",
    "  \"year\" : 2007\n",
    "}\n",
    "child3 = {\n",
    "  \"name\" : \"Linus\",\n",
    "  \"year\" : 2011\n",
    "}\n",
    "child4 = {\n",
    "  \"name\" : \"Ferrus\",\n",
    "  \"year\" : 2010\n",
    "}\n",
    "\n",
    "myfamily = {\"child1\" : child1,\n",
    "            \"child2\" : child2,\n",
    "            \"child3\" : child3,\n",
    "            \"child4\" : child4\n",
    "}"
   ]
  },
  {
   "cell_type": "code",
   "execution_count": 169,
   "id": "c7e89207",
   "metadata": {},
   "outputs": [
    {
     "data": {
      "text/plain": [
       "{'child1': {'name': 'Emil', 'year': 2004},\n",
       " 'child2': {'name': 'Tobias', 'year': 2007},\n",
       " 'child3': {'name': 'Linus', 'year': 2011},\n",
       " 'child4': {'name': 'Ferrus', 'year': 2010}}"
      ]
     },
     "execution_count": 169,
     "metadata": {},
     "output_type": "execute_result"
    }
   ],
   "source": [
    "myfamily"
   ]
  },
  {
   "cell_type": "markdown",
   "id": "2e22a2ac",
   "metadata": {},
   "source": [
    "# **For Programming Practice [Click Here](00_Programming_Practice.ipynb)**"
   ]
  }
 ],
 "metadata": {
  "kernelspec": {
   "display_name": "Python 3 (ipykernel)",
   "language": "python",
   "name": "python3"
  },
  "language_info": {
   "codemirror_mode": {
    "name": "ipython",
    "version": 3
   },
   "file_extension": ".py",
   "mimetype": "text/x-python",
   "name": "python",
   "nbconvert_exporter": "python",
   "pygments_lexer": "ipython3",
   "version": "3.8.8"
  }
 },
 "nbformat": 4,
 "nbformat_minor": 5
}
