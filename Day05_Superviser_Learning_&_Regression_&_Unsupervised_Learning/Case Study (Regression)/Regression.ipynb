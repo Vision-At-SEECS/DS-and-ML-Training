{
 "cells": [
  {
   "cell_type": "markdown",
   "id": "59f8958e",
   "metadata": {},
   "source": [
    "### Importing libraries"
   ]
  },
  {
   "cell_type": "code",
   "execution_count": 1,
   "id": "ca6445af",
   "metadata": {},
   "outputs": [],
   "source": [
    "import numpy as np\n",
    "from sklearn.linear_model import LinearRegression\n",
    "from sklearn.model_selection import train_test_split\n",
    "from sklearn.preprocessing import MinMaxScaler\n",
    "from sklearn import metrics\n",
    "import pandas as pd\n",
    "from tqdm import tqdm"
   ]
  },
  {
   "cell_type": "markdown",
   "id": "43554bef",
   "metadata": {},
   "source": [
    "### Reading data"
   ]
  },
  {
   "cell_type": "code",
   "execution_count": 2,
   "id": "5453a026",
   "metadata": {},
   "outputs": [
    {
     "data": {
      "text/html": [
       "<div>\n",
       "<style scoped>\n",
       "    .dataframe tbody tr th:only-of-type {\n",
       "        vertical-align: middle;\n",
       "    }\n",
       "\n",
       "    .dataframe tbody tr th {\n",
       "        vertical-align: top;\n",
       "    }\n",
       "\n",
       "    .dataframe thead th {\n",
       "        text-align: right;\n",
       "    }\n",
       "</style>\n",
       "<table border=\"1\" class=\"dataframe\">\n",
       "  <thead>\n",
       "    <tr style=\"text-align: right;\">\n",
       "      <th></th>\n",
       "      <th>mpg</th>\n",
       "      <th>cylinders</th>\n",
       "      <th>displacement</th>\n",
       "      <th>horsepower</th>\n",
       "      <th>weight</th>\n",
       "      <th>acceleration</th>\n",
       "      <th>model year</th>\n",
       "      <th>origin</th>\n",
       "      <th>car name</th>\n",
       "    </tr>\n",
       "  </thead>\n",
       "  <tbody>\n",
       "    <tr>\n",
       "      <th>0</th>\n",
       "      <td>15.0</td>\n",
       "      <td>8</td>\n",
       "      <td>350.0</td>\n",
       "      <td>165</td>\n",
       "      <td>3693</td>\n",
       "      <td>11.5</td>\n",
       "      <td>70</td>\n",
       "      <td>1</td>\n",
       "      <td>buick skylark 320</td>\n",
       "    </tr>\n",
       "    <tr>\n",
       "      <th>1</th>\n",
       "      <td>18.0</td>\n",
       "      <td>8</td>\n",
       "      <td>318.0</td>\n",
       "      <td>150</td>\n",
       "      <td>3436</td>\n",
       "      <td>11.0</td>\n",
       "      <td>70</td>\n",
       "      <td>1</td>\n",
       "      <td>plymouth satellite</td>\n",
       "    </tr>\n",
       "    <tr>\n",
       "      <th>2</th>\n",
       "      <td>16.0</td>\n",
       "      <td>8</td>\n",
       "      <td>304.0</td>\n",
       "      <td>150</td>\n",
       "      <td>3433</td>\n",
       "      <td>12.0</td>\n",
       "      <td>70</td>\n",
       "      <td>1</td>\n",
       "      <td>amc rebel sst</td>\n",
       "    </tr>\n",
       "    <tr>\n",
       "      <th>3</th>\n",
       "      <td>17.0</td>\n",
       "      <td>8</td>\n",
       "      <td>302.0</td>\n",
       "      <td>140</td>\n",
       "      <td>3449</td>\n",
       "      <td>10.5</td>\n",
       "      <td>70</td>\n",
       "      <td>1</td>\n",
       "      <td>ford torino</td>\n",
       "    </tr>\n",
       "    <tr>\n",
       "      <th>4</th>\n",
       "      <td>15.0</td>\n",
       "      <td>8</td>\n",
       "      <td>429.0</td>\n",
       "      <td>198</td>\n",
       "      <td>4341</td>\n",
       "      <td>10.0</td>\n",
       "      <td>70</td>\n",
       "      <td>1</td>\n",
       "      <td>ford galaxie 500</td>\n",
       "    </tr>\n",
       "    <tr>\n",
       "      <th>...</th>\n",
       "      <td>...</td>\n",
       "      <td>...</td>\n",
       "      <td>...</td>\n",
       "      <td>...</td>\n",
       "      <td>...</td>\n",
       "      <td>...</td>\n",
       "      <td>...</td>\n",
       "      <td>...</td>\n",
       "      <td>...</td>\n",
       "    </tr>\n",
       "    <tr>\n",
       "      <th>392</th>\n",
       "      <td>27.0</td>\n",
       "      <td>4</td>\n",
       "      <td>140.0</td>\n",
       "      <td>86</td>\n",
       "      <td>2790</td>\n",
       "      <td>15.6</td>\n",
       "      <td>82</td>\n",
       "      <td>1</td>\n",
       "      <td>ford mustang gl</td>\n",
       "    </tr>\n",
       "    <tr>\n",
       "      <th>393</th>\n",
       "      <td>44.0</td>\n",
       "      <td>4</td>\n",
       "      <td>97.0</td>\n",
       "      <td>52</td>\n",
       "      <td>2130</td>\n",
       "      <td>24.6</td>\n",
       "      <td>82</td>\n",
       "      <td>2</td>\n",
       "      <td>vw pickup</td>\n",
       "    </tr>\n",
       "    <tr>\n",
       "      <th>394</th>\n",
       "      <td>32.0</td>\n",
       "      <td>4</td>\n",
       "      <td>135.0</td>\n",
       "      <td>84</td>\n",
       "      <td>2295</td>\n",
       "      <td>11.6</td>\n",
       "      <td>82</td>\n",
       "      <td>1</td>\n",
       "      <td>dodge rampage</td>\n",
       "    </tr>\n",
       "    <tr>\n",
       "      <th>395</th>\n",
       "      <td>28.0</td>\n",
       "      <td>4</td>\n",
       "      <td>120.0</td>\n",
       "      <td>79</td>\n",
       "      <td>2625</td>\n",
       "      <td>18.6</td>\n",
       "      <td>82</td>\n",
       "      <td>1</td>\n",
       "      <td>ford ranger</td>\n",
       "    </tr>\n",
       "    <tr>\n",
       "      <th>396</th>\n",
       "      <td>31.0</td>\n",
       "      <td>4</td>\n",
       "      <td>119.0</td>\n",
       "      <td>82</td>\n",
       "      <td>2720</td>\n",
       "      <td>19.4</td>\n",
       "      <td>82</td>\n",
       "      <td>1</td>\n",
       "      <td>chevy s-10</td>\n",
       "    </tr>\n",
       "  </tbody>\n",
       "</table>\n",
       "<p>397 rows × 9 columns</p>\n",
       "</div>"
      ],
      "text/plain": [
       "      mpg  cylinders  displacement horsepower  weight  acceleration  \\\n",
       "0    15.0          8         350.0        165    3693          11.5   \n",
       "1    18.0          8         318.0        150    3436          11.0   \n",
       "2    16.0          8         304.0        150    3433          12.0   \n",
       "3    17.0          8         302.0        140    3449          10.5   \n",
       "4    15.0          8         429.0        198    4341          10.0   \n",
       "..    ...        ...           ...        ...     ...           ...   \n",
       "392  27.0          4         140.0         86    2790          15.6   \n",
       "393  44.0          4          97.0         52    2130          24.6   \n",
       "394  32.0          4         135.0         84    2295          11.6   \n",
       "395  28.0          4         120.0         79    2625          18.6   \n",
       "396  31.0          4         119.0         82    2720          19.4   \n",
       "\n",
       "     model year  origin            car name  \n",
       "0            70       1   buick skylark 320  \n",
       "1            70       1  plymouth satellite  \n",
       "2            70       1       amc rebel sst  \n",
       "3            70       1         ford torino  \n",
       "4            70       1    ford galaxie 500  \n",
       "..          ...     ...                 ...  \n",
       "392          82       1     ford mustang gl  \n",
       "393          82       2           vw pickup  \n",
       "394          82       1       dodge rampage  \n",
       "395          82       1         ford ranger  \n",
       "396          82       1          chevy s-10  \n",
       "\n",
       "[397 rows x 9 columns]"
      ]
     },
     "execution_count": 2,
     "metadata": {},
     "output_type": "execute_result"
    }
   ],
   "source": [
    "df = pd.read_csv(\"../../Datasets/mpg Data/auto-mpg.data.csv\")\n",
    "df.columns = ['mpg','cylinders','displacement','horsepower','weight','acceleration','model year','origin','car name']\n",
    "df"
   ]
  },
  {
   "cell_type": "markdown",
   "id": "580942a9",
   "metadata": {},
   "source": [
    "### Checking for missing values\n",
    "This data has missing values where a '?' appears in the data, we find the indices of those instances and remove those rows from the data"
   ]
  },
  {
   "cell_type": "code",
   "execution_count": 3,
   "id": "c6cdc896",
   "metadata": {},
   "outputs": [
    {
     "data": {
      "text/plain": [
       "{'mpg': (array([], dtype=int64),),\n",
       " 'cylinders': (array([], dtype=int64),),\n",
       " 'displacement': (array([], dtype=int64),),\n",
       " 'horsepower': (array([ 31, 125, 329, 335, 353, 373], dtype=int64),),\n",
       " 'weight': (array([], dtype=int64),),\n",
       " 'acceleration': (array([], dtype=int64),),\n",
       " 'model year': (array([], dtype=int64),),\n",
       " 'origin': (array([], dtype=int64),),\n",
       " 'car name': (array([], dtype=int64),)}"
      ]
     },
     "execution_count": 3,
     "metadata": {},
     "output_type": "execute_result"
    }
   ],
   "source": [
    "missing_dict = {}\n",
    "for col in df.columns:\n",
    "    missing_dict[col]= np.where(df[col]=='?')\n",
    "missing_dict"
   ]
  },
  {
   "cell_type": "markdown",
   "id": "f602f1ca",
   "metadata": {},
   "source": [
    "Dropping the missing values from the data"
   ]
  },
  {
   "cell_type": "code",
   "execution_count": 4,
   "id": "ebdeba69",
   "metadata": {},
   "outputs": [
    {
     "data": {
      "text/html": [
       "<div>\n",
       "<style scoped>\n",
       "    .dataframe tbody tr th:only-of-type {\n",
       "        vertical-align: middle;\n",
       "    }\n",
       "\n",
       "    .dataframe tbody tr th {\n",
       "        vertical-align: top;\n",
       "    }\n",
       "\n",
       "    .dataframe thead th {\n",
       "        text-align: right;\n",
       "    }\n",
       "</style>\n",
       "<table border=\"1\" class=\"dataframe\">\n",
       "  <thead>\n",
       "    <tr style=\"text-align: right;\">\n",
       "      <th></th>\n",
       "      <th>mpg</th>\n",
       "      <th>cylinders</th>\n",
       "      <th>displacement</th>\n",
       "      <th>horsepower</th>\n",
       "      <th>weight</th>\n",
       "      <th>acceleration</th>\n",
       "      <th>model year</th>\n",
       "      <th>origin</th>\n",
       "      <th>car name</th>\n",
       "    </tr>\n",
       "  </thead>\n",
       "  <tbody>\n",
       "    <tr>\n",
       "      <th>0</th>\n",
       "      <td>15.0</td>\n",
       "      <td>8</td>\n",
       "      <td>350.0</td>\n",
       "      <td>165</td>\n",
       "      <td>3693</td>\n",
       "      <td>11.5</td>\n",
       "      <td>70</td>\n",
       "      <td>1</td>\n",
       "      <td>buick skylark 320</td>\n",
       "    </tr>\n",
       "    <tr>\n",
       "      <th>1</th>\n",
       "      <td>18.0</td>\n",
       "      <td>8</td>\n",
       "      <td>318.0</td>\n",
       "      <td>150</td>\n",
       "      <td>3436</td>\n",
       "      <td>11.0</td>\n",
       "      <td>70</td>\n",
       "      <td>1</td>\n",
       "      <td>plymouth satellite</td>\n",
       "    </tr>\n",
       "    <tr>\n",
       "      <th>2</th>\n",
       "      <td>16.0</td>\n",
       "      <td>8</td>\n",
       "      <td>304.0</td>\n",
       "      <td>150</td>\n",
       "      <td>3433</td>\n",
       "      <td>12.0</td>\n",
       "      <td>70</td>\n",
       "      <td>1</td>\n",
       "      <td>amc rebel sst</td>\n",
       "    </tr>\n",
       "    <tr>\n",
       "      <th>3</th>\n",
       "      <td>17.0</td>\n",
       "      <td>8</td>\n",
       "      <td>302.0</td>\n",
       "      <td>140</td>\n",
       "      <td>3449</td>\n",
       "      <td>10.5</td>\n",
       "      <td>70</td>\n",
       "      <td>1</td>\n",
       "      <td>ford torino</td>\n",
       "    </tr>\n",
       "    <tr>\n",
       "      <th>4</th>\n",
       "      <td>15.0</td>\n",
       "      <td>8</td>\n",
       "      <td>429.0</td>\n",
       "      <td>198</td>\n",
       "      <td>4341</td>\n",
       "      <td>10.0</td>\n",
       "      <td>70</td>\n",
       "      <td>1</td>\n",
       "      <td>ford galaxie 500</td>\n",
       "    </tr>\n",
       "    <tr>\n",
       "      <th>...</th>\n",
       "      <td>...</td>\n",
       "      <td>...</td>\n",
       "      <td>...</td>\n",
       "      <td>...</td>\n",
       "      <td>...</td>\n",
       "      <td>...</td>\n",
       "      <td>...</td>\n",
       "      <td>...</td>\n",
       "      <td>...</td>\n",
       "    </tr>\n",
       "    <tr>\n",
       "      <th>392</th>\n",
       "      <td>27.0</td>\n",
       "      <td>4</td>\n",
       "      <td>140.0</td>\n",
       "      <td>86</td>\n",
       "      <td>2790</td>\n",
       "      <td>15.6</td>\n",
       "      <td>82</td>\n",
       "      <td>1</td>\n",
       "      <td>ford mustang gl</td>\n",
       "    </tr>\n",
       "    <tr>\n",
       "      <th>393</th>\n",
       "      <td>44.0</td>\n",
       "      <td>4</td>\n",
       "      <td>97.0</td>\n",
       "      <td>52</td>\n",
       "      <td>2130</td>\n",
       "      <td>24.6</td>\n",
       "      <td>82</td>\n",
       "      <td>2</td>\n",
       "      <td>vw pickup</td>\n",
       "    </tr>\n",
       "    <tr>\n",
       "      <th>394</th>\n",
       "      <td>32.0</td>\n",
       "      <td>4</td>\n",
       "      <td>135.0</td>\n",
       "      <td>84</td>\n",
       "      <td>2295</td>\n",
       "      <td>11.6</td>\n",
       "      <td>82</td>\n",
       "      <td>1</td>\n",
       "      <td>dodge rampage</td>\n",
       "    </tr>\n",
       "    <tr>\n",
       "      <th>395</th>\n",
       "      <td>28.0</td>\n",
       "      <td>4</td>\n",
       "      <td>120.0</td>\n",
       "      <td>79</td>\n",
       "      <td>2625</td>\n",
       "      <td>18.6</td>\n",
       "      <td>82</td>\n",
       "      <td>1</td>\n",
       "      <td>ford ranger</td>\n",
       "    </tr>\n",
       "    <tr>\n",
       "      <th>396</th>\n",
       "      <td>31.0</td>\n",
       "      <td>4</td>\n",
       "      <td>119.0</td>\n",
       "      <td>82</td>\n",
       "      <td>2720</td>\n",
       "      <td>19.4</td>\n",
       "      <td>82</td>\n",
       "      <td>1</td>\n",
       "      <td>chevy s-10</td>\n",
       "    </tr>\n",
       "  </tbody>\n",
       "</table>\n",
       "<p>391 rows × 9 columns</p>\n",
       "</div>"
      ],
      "text/plain": [
       "      mpg  cylinders  displacement horsepower  weight  acceleration  \\\n",
       "0    15.0          8         350.0        165    3693          11.5   \n",
       "1    18.0          8         318.0        150    3436          11.0   \n",
       "2    16.0          8         304.0        150    3433          12.0   \n",
       "3    17.0          8         302.0        140    3449          10.5   \n",
       "4    15.0          8         429.0        198    4341          10.0   \n",
       "..    ...        ...           ...        ...     ...           ...   \n",
       "392  27.0          4         140.0         86    2790          15.6   \n",
       "393  44.0          4          97.0         52    2130          24.6   \n",
       "394  32.0          4         135.0         84    2295          11.6   \n",
       "395  28.0          4         120.0         79    2625          18.6   \n",
       "396  31.0          4         119.0         82    2720          19.4   \n",
       "\n",
       "     model year  origin            car name  \n",
       "0            70       1   buick skylark 320  \n",
       "1            70       1  plymouth satellite  \n",
       "2            70       1       amc rebel sst  \n",
       "3            70       1         ford torino  \n",
       "4            70       1    ford galaxie 500  \n",
       "..          ...     ...                 ...  \n",
       "392          82       1     ford mustang gl  \n",
       "393          82       2           vw pickup  \n",
       "394          82       1       dodge rampage  \n",
       "395          82       1         ford ranger  \n",
       "396          82       1          chevy s-10  \n",
       "\n",
       "[391 rows x 9 columns]"
      ]
     },
     "execution_count": 4,
     "metadata": {},
     "output_type": "execute_result"
    }
   ],
   "source": [
    "df.drop(missing_dict['horsepower'][0], inplace=True)\n",
    "df"
   ]
  },
  {
   "cell_type": "markdown",
   "id": "140e2e62",
   "metadata": {},
   "source": [
    "Separating features and labels"
   ]
  },
  {
   "cell_type": "code",
   "execution_count": 5,
   "id": "7030f58f",
   "metadata": {},
   "outputs": [],
   "source": [
    "X = df.iloc[:,1:-1]\n",
    "X = np.array(X)\n",
    "y = df.iloc[:,0]\n",
    "y = np.array(y)"
   ]
  },
  {
   "cell_type": "markdown",
   "id": "0ddec2ae",
   "metadata": {},
   "source": [
    "Split arrays or matrices into random train and test subsets\n",
    "\n",
    "**random_state**: Controls the shuffling applied to the data before applying the split. Pass an int for reproducible output across multiple function calls"
   ]
  },
  {
   "cell_type": "code",
   "execution_count": 6,
   "id": "c401be21",
   "metadata": {},
   "outputs": [],
   "source": [
    "X_train, X_test, y_train, y_test = train_test_split(X,y,test_size = 0.15, random_state=42)"
   ]
  },
  {
   "cell_type": "markdown",
   "id": "59dc159a",
   "metadata": {},
   "source": [
    "LinearRegression fits a linear model with coefficients w = (w1, …, wp) to minimize the residual sum of squares between the observed targets in the dataset, and the targets predicted by the linear approximation"
   ]
  },
  {
   "cell_type": "code",
   "execution_count": 7,
   "id": "302352a4",
   "metadata": {},
   "outputs": [],
   "source": [
    "reg = LinearRegression().fit(X_train, y_train)"
   ]
  },
  {
   "cell_type": "markdown",
   "id": "b0731251",
   "metadata": {},
   "source": [
    "Predict using the linear model"
   ]
  },
  {
   "cell_type": "code",
   "execution_count": 8,
   "id": "412064f6",
   "metadata": {},
   "outputs": [],
   "source": [
    "preds = reg.predict(X_test)"
   ]
  },
  {
   "cell_type": "markdown",
   "id": "b0b2345c",
   "metadata": {},
   "source": [
    "### Calculating performance metrics of the trained model"
   ]
  },
  {
   "cell_type": "markdown",
   "id": "dc873a92",
   "metadata": {},
   "source": [
    "**max_error** metric calculates the maximum residual error"
   ]
  },
  {
   "cell_type": "code",
   "execution_count": 9,
   "id": "3d5c1b7a",
   "metadata": {},
   "outputs": [
    {
     "data": {
      "text/plain": [
       "9.885881126770684"
      ]
     },
     "execution_count": 9,
     "metadata": {},
     "output_type": "execute_result"
    }
   ],
   "source": [
    "metrics.max_error(preds, y_test)"
   ]
  },
  {
   "cell_type": "markdown",
   "id": "292acf46",
   "metadata": {},
   "source": [
    "Mean absolute error regression loss"
   ]
  },
  {
   "cell_type": "code",
   "execution_count": 10,
   "id": "67fc393e",
   "metadata": {},
   "outputs": [
    {
     "data": {
      "text/plain": [
       "2.4505444932911526"
      ]
     },
     "execution_count": 10,
     "metadata": {},
     "output_type": "execute_result"
    }
   ],
   "source": [
    "metrics.mean_absolute_error(preds, y_test)"
   ]
  },
  {
   "cell_type": "markdown",
   "id": "26f1d219",
   "metadata": {},
   "source": [
    "Mean squared error regression loss"
   ]
  },
  {
   "cell_type": "code",
   "execution_count": 11,
   "id": "0d0924ad",
   "metadata": {},
   "outputs": [
    {
     "data": {
      "text/plain": [
       "10.223707672057884"
      ]
     },
     "execution_count": 11,
     "metadata": {},
     "output_type": "execute_result"
    }
   ],
   "source": [
    "metrics.mean_squared_error(preds, y_test)"
   ]
  },
  {
   "cell_type": "markdown",
   "id": "504c33d6",
   "metadata": {},
   "source": [
    "If **squared** = True, returns MSE value, if False returns RMSE value"
   ]
  },
  {
   "cell_type": "code",
   "execution_count": 12,
   "id": "62726ac5",
   "metadata": {},
   "outputs": [
    {
     "data": {
      "text/plain": [
       "3.197453310379666"
      ]
     },
     "execution_count": 12,
     "metadata": {},
     "output_type": "execute_result"
    }
   ],
   "source": [
    "metrics.mean_squared_error(preds, y_test, squared=False)"
   ]
  },
  {
   "cell_type": "markdown",
   "id": "aec255bf",
   "metadata": {},
   "source": [
    "R<sup>2</sup> (coefficient of determination) regression score function.\n",
    "\n",
    "Best possible score is 1.0 and it can be negative (because the model can be arbitrarily worse). A constant model that always predicts the expected value of y, disregarding the input features, would get a\n",
    "score of 0.0."
   ]
  },
  {
   "cell_type": "code",
   "execution_count": 13,
   "id": "6d42a588",
   "metadata": {},
   "outputs": [
    {
     "data": {
      "text/plain": [
       "0.8112193400669614"
      ]
     },
     "execution_count": 13,
     "metadata": {},
     "output_type": "execute_result"
    }
   ],
   "source": [
    "metrics.r2_score(preds, y_test, multioutput='variance_weighted')"
   ]
  },
  {
   "cell_type": "markdown",
   "id": "aba86bf3",
   "metadata": {},
   "source": [
    "### Training using normalization"
   ]
  },
  {
   "cell_type": "markdown",
   "id": "84902983",
   "metadata": {},
   "source": [
    "This estimator scales and translates each feature individually such that it is in the given range on the training set, e.g. between zero and one"
   ]
  },
  {
   "cell_type": "code",
   "execution_count": 14,
   "id": "f6b15f0e",
   "metadata": {},
   "outputs": [],
   "source": [
    "scaler = MinMaxScaler()"
   ]
  },
  {
   "cell_type": "code",
   "execution_count": 15,
   "id": "b9ccb604",
   "metadata": {},
   "outputs": [
    {
     "data": {
      "text/plain": [
       "MinMaxScaler()"
      ]
     },
     "execution_count": 15,
     "metadata": {},
     "output_type": "execute_result"
    }
   ],
   "source": [
    "scaler.fit(X)"
   ]
  },
  {
   "cell_type": "code",
   "execution_count": 16,
   "id": "2e429467",
   "metadata": {},
   "outputs": [],
   "source": [
    "norm_X = scaler.transform(X)"
   ]
  },
  {
   "cell_type": "code",
   "execution_count": 17,
   "id": "77db3cc6",
   "metadata": {},
   "outputs": [
    {
     "data": {
      "text/plain": [
       "array([[1.        , 0.72868217, 0.64673913, ..., 0.20833333, 0.        ,\n",
       "        0.        ],\n",
       "       [1.        , 0.64599483, 0.56521739, ..., 0.17857143, 0.        ,\n",
       "        0.        ],\n",
       "       [1.        , 0.60981912, 0.56521739, ..., 0.23809524, 0.        ,\n",
       "        0.        ],\n",
       "       ...,\n",
       "       [0.2       , 0.17312661, 0.20652174, ..., 0.21428571, 1.        ,\n",
       "        0.        ],\n",
       "       [0.2       , 0.13436693, 0.17934783, ..., 0.63095238, 1.        ,\n",
       "        0.        ],\n",
       "       [0.2       , 0.13178295, 0.19565217, ..., 0.67857143, 1.        ,\n",
       "        0.        ]])"
      ]
     },
     "execution_count": 17,
     "metadata": {},
     "output_type": "execute_result"
    }
   ],
   "source": [
    "norm_X"
   ]
  },
  {
   "cell_type": "code",
   "execution_count": 18,
   "id": "0aba728e",
   "metadata": {},
   "outputs": [],
   "source": [
    "Xn_train, Xn_test, yn_train, yn_test = train_test_split(norm_X,y,test_size = 0.15, random_state=42)"
   ]
  },
  {
   "cell_type": "code",
   "execution_count": 19,
   "id": "3062772d",
   "metadata": {},
   "outputs": [],
   "source": [
    "reg_norm = LinearRegression().fit(Xn_train, yn_train)"
   ]
  },
  {
   "cell_type": "code",
   "execution_count": 20,
   "id": "e45ab42f",
   "metadata": {},
   "outputs": [],
   "source": [
    "norm_preds = reg_norm.predict(Xn_test)"
   ]
  },
  {
   "cell_type": "code",
   "execution_count": 21,
   "id": "d9621c54",
   "metadata": {},
   "outputs": [
    {
     "data": {
      "text/plain": [
       "9.88588112677067"
      ]
     },
     "execution_count": 21,
     "metadata": {},
     "output_type": "execute_result"
    }
   ],
   "source": [
    "metrics.max_error(norm_preds, y_test)"
   ]
  },
  {
   "cell_type": "code",
   "execution_count": 22,
   "id": "9471ba6b",
   "metadata": {},
   "outputs": [
    {
     "data": {
      "text/plain": [
       "2.4505444932911535"
      ]
     },
     "execution_count": 22,
     "metadata": {},
     "output_type": "execute_result"
    }
   ],
   "source": [
    "metrics.mean_absolute_error(norm_preds, y_test)"
   ]
  },
  {
   "cell_type": "code",
   "execution_count": 23,
   "id": "f723bf64",
   "metadata": {},
   "outputs": [
    {
     "data": {
      "text/plain": [
       "10.223707672057916"
      ]
     },
     "execution_count": 23,
     "metadata": {},
     "output_type": "execute_result"
    }
   ],
   "source": [
    "metrics.mean_squared_error(norm_preds, y_test)"
   ]
  },
  {
   "cell_type": "code",
   "execution_count": 24,
   "id": "01ff30f1",
   "metadata": {},
   "outputs": [
    {
     "data": {
      "text/plain": [
       "3.1974533103796707"
      ]
     },
     "execution_count": 24,
     "metadata": {},
     "output_type": "execute_result"
    }
   ],
   "source": [
    "metrics.mean_squared_error(norm_preds, y_test, squared=False)"
   ]
  },
  {
   "cell_type": "code",
   "execution_count": 25,
   "id": "30964ca5",
   "metadata": {},
   "outputs": [
    {
     "data": {
      "text/plain": [
       "0.8112193400669614"
      ]
     },
     "execution_count": 25,
     "metadata": {},
     "output_type": "execute_result"
    }
   ],
   "source": [
    "metrics.r2_score(norm_preds, y_test, multioutput='variance_weighted')"
   ]
  }
 ],
 "metadata": {
  "kernelspec": {
   "display_name": "Python 3 (ipykernel)",
   "language": "python",
   "name": "python3"
  },
  "language_info": {
   "codemirror_mode": {
    "name": "ipython",
    "version": 3
   },
   "file_extension": ".py",
   "mimetype": "text/x-python",
   "name": "python",
   "nbconvert_exporter": "python",
   "pygments_lexer": "ipython3",
   "version": "3.7.9"
  }
 },
 "nbformat": 4,
 "nbformat_minor": 5
}
