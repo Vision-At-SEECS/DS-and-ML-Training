{
 "cells": [
  {
   "cell_type": "markdown",
   "metadata": {},
   "source": [
    "# Introduction\n",
    "\n",
    "In the last tutorial, we learned how to select relevant data out of a DataFrame or Series. Plucking the right data out of our data representation is critical to getting work done, as we demonstrated in the exercises.\n",
    "\n",
    "However, the data does not always come out of memory in the format we want it in right out of the bat. Sometimes we have to do some more work ourselves to reformat it for the task at hand.  This tutorial will cover different operations we can apply to our data to get the input \"just right\". "
   ]
  },
  {
   "cell_type": "code",
   "execution_count": 1,
   "metadata": {
    "_kg_hide-input": true
   },
   "outputs": [],
   "source": [
    "\n",
    "import pandas as pd\n",
    "pd.set_option('max_rows', 5)\n",
    "import numpy as np\n",
    "df = pd.read_csv(\"../Datasets/PakistanDroneAttacksWithTemp Ver 9 (October 19, 2017).csv\", encoding='cp1252')"
   ]
  },
  {
   "cell_type": "code",
   "execution_count": 2,
   "metadata": {},
   "outputs": [
    {
     "data": {
      "text/html": [
       "<div>\n",
       "<style scoped>\n",
       "    .dataframe tbody tr th:only-of-type {\n",
       "        vertical-align: middle;\n",
       "    }\n",
       "\n",
       "    .dataframe tbody tr th {\n",
       "        vertical-align: top;\n",
       "    }\n",
       "\n",
       "    .dataframe thead th {\n",
       "        text-align: right;\n",
       "    }\n",
       "</style>\n",
       "<table border=\"1\" class=\"dataframe\">\n",
       "  <thead>\n",
       "    <tr style=\"text-align: right;\">\n",
       "      <th></th>\n",
       "      <th>S#</th>\n",
       "      <th>Date</th>\n",
       "      <th>Time</th>\n",
       "      <th>Location</th>\n",
       "      <th>City</th>\n",
       "      <th>Province</th>\n",
       "      <th>No of Strike</th>\n",
       "      <th>Al-Qaeda</th>\n",
       "      <th>Taliban</th>\n",
       "      <th>Civilians Min</th>\n",
       "      <th>...</th>\n",
       "      <th>Injured Min</th>\n",
       "      <th>Injured Max</th>\n",
       "      <th>Women/Children</th>\n",
       "      <th>Special Mention (Site)</th>\n",
       "      <th>Comments</th>\n",
       "      <th>References</th>\n",
       "      <th>Longitude</th>\n",
       "      <th>Latitude</th>\n",
       "      <th>Temperature(C)</th>\n",
       "      <th>Temperature(F)</th>\n",
       "    </tr>\n",
       "  </thead>\n",
       "  <tbody>\n",
       "    <tr>\n",
       "      <th>0</th>\n",
       "      <td>1.0</td>\n",
       "      <td>Friday, June 18, 2004</td>\n",
       "      <td>22:00</td>\n",
       "      <td>Near Wana</td>\n",
       "      <td>south Waziristan</td>\n",
       "      <td>FATA</td>\n",
       "      <td>1.0</td>\n",
       "      <td>NaN</td>\n",
       "      <td>1.0</td>\n",
       "      <td>0.0</td>\n",
       "      <td>...</td>\n",
       "      <td>NaN</td>\n",
       "      <td>NaN</td>\n",
       "      <td>N</td>\n",
       "      <td>Blast occured in courtyard of the house of lon...</td>\n",
       "      <td>Village in Wana</td>\n",
       "      <td>http://archives.dawn.com/2004/06/19/top1.htm</td>\n",
       "      <td>69.9000</td>\n",
       "      <td>33.0333</td>\n",
       "      <td>28.475</td>\n",
       "      <td>83.255</td>\n",
       "    </tr>\n",
       "    <tr>\n",
       "      <th>1</th>\n",
       "      <td>2.0</td>\n",
       "      <td>Sunday, May 08, 2005</td>\n",
       "      <td>23:30</td>\n",
       "      <td>Mir Ali (Near Afghan Border)</td>\n",
       "      <td>North Waziristan</td>\n",
       "      <td>FATA</td>\n",
       "      <td>1.0</td>\n",
       "      <td>1.0</td>\n",
       "      <td>NaN</td>\n",
       "      <td>0.0</td>\n",
       "      <td>...</td>\n",
       "      <td>NaN</td>\n",
       "      <td>NaN</td>\n",
       "      <td>N</td>\n",
       "      <td>Drone struck a car driven by local warlord- ki...</td>\n",
       "      <td>Civilian killied was Samiullah Khan who was a ...</td>\n",
       "      <td>http://www.msnbc.msn.com/id/7847008/</td>\n",
       "      <td>70.1455</td>\n",
       "      <td>32.9746</td>\n",
       "      <td>11.475</td>\n",
       "      <td>52.655</td>\n",
       "    </tr>\n",
       "    <tr>\n",
       "      <th>...</th>\n",
       "      <td>...</td>\n",
       "      <td>...</td>\n",
       "      <td>...</td>\n",
       "      <td>...</td>\n",
       "      <td>...</td>\n",
       "      <td>...</td>\n",
       "      <td>...</td>\n",
       "      <td>...</td>\n",
       "      <td>...</td>\n",
       "      <td>...</td>\n",
       "      <td>...</td>\n",
       "      <td>...</td>\n",
       "      <td>...</td>\n",
       "      <td>...</td>\n",
       "      <td>...</td>\n",
       "      <td>...</td>\n",
       "      <td>...</td>\n",
       "      <td>...</td>\n",
       "      <td>...</td>\n",
       "      <td>...</td>\n",
       "      <td>...</td>\n",
       "    </tr>\n",
       "    <tr>\n",
       "      <th>403</th>\n",
       "      <td>405.0</td>\n",
       "      <td>Monday, October 16, 2017</td>\n",
       "      <td>NaN</td>\n",
       "      <td>Zero-point</td>\n",
       "      <td>Lower Kurram Agency</td>\n",
       "      <td>FATA</td>\n",
       "      <td>4.0</td>\n",
       "      <td>NaN</td>\n",
       "      <td>5.0</td>\n",
       "      <td>NaN</td>\n",
       "      <td>...</td>\n",
       "      <td>NaN</td>\n",
       "      <td>NaN</td>\n",
       "      <td>N</td>\n",
       "      <td>At least five suspected militants were killed ...</td>\n",
       "      <td>Conflict of Report: Foreign media reported tha...</td>\n",
       "      <td>http://www.thesundaily.my/news/2017/10/18/deat...</td>\n",
       "      <td>NaN</td>\n",
       "      <td>NaN</td>\n",
       "      <td>NaN</td>\n",
       "      <td>NaN</td>\n",
       "    </tr>\n",
       "    <tr>\n",
       "      <th>404</th>\n",
       "      <td>NaN</td>\n",
       "      <td>NaN</td>\n",
       "      <td>NaN</td>\n",
       "      <td>NaN</td>\n",
       "      <td>NaN</td>\n",
       "      <td>NaN</td>\n",
       "      <td>NaN</td>\n",
       "      <td>49.0</td>\n",
       "      <td>662.0</td>\n",
       "      <td>1304.0</td>\n",
       "      <td>...</td>\n",
       "      <td>402.0</td>\n",
       "      <td>1329.0</td>\n",
       "      <td>NaN</td>\n",
       "      <td>NaN</td>\n",
       "      <td>NaN</td>\n",
       "      <td>NaN</td>\n",
       "      <td>NaN</td>\n",
       "      <td>NaN</td>\n",
       "      <td>NaN</td>\n",
       "      <td>NaN</td>\n",
       "    </tr>\n",
       "  </tbody>\n",
       "</table>\n",
       "<p>405 rows × 25 columns</p>\n",
       "</div>"
      ],
      "text/plain": [
       "        S#                      Date   Time                      Location  \\\n",
       "0      1.0     Friday, June 18, 2004  22:00                     Near Wana   \n",
       "1      2.0      Sunday, May 08, 2005  23:30  Mir Ali (Near Afghan Border)   \n",
       "..     ...                       ...    ...                           ...   \n",
       "403  405.0  Monday, October 16, 2017    NaN                    Zero-point   \n",
       "404    NaN                       NaN    NaN                           NaN   \n",
       "\n",
       "                    City Province  No of Strike  Al-Qaeda  Taliban  \\\n",
       "0       south Waziristan     FATA           1.0       NaN      1.0   \n",
       "1       North Waziristan     FATA           1.0       1.0      NaN   \n",
       "..                   ...      ...           ...       ...      ...   \n",
       "403  Lower Kurram Agency     FATA           4.0       NaN      5.0   \n",
       "404                  NaN      NaN           NaN      49.0    662.0   \n",
       "\n",
       "     Civilians Min  ...  Injured Min  Injured Max  Women/Children    \\\n",
       "0              0.0  ...          NaN          NaN                 N   \n",
       "1              0.0  ...          NaN          NaN                 N   \n",
       "..             ...  ...          ...          ...               ...   \n",
       "403            NaN  ...          NaN          NaN                 N   \n",
       "404         1304.0  ...        402.0       1329.0               NaN   \n",
       "\n",
       "                                Special Mention (Site)  \\\n",
       "0    Blast occured in courtyard of the house of lon...   \n",
       "1    Drone struck a car driven by local warlord- ki...   \n",
       "..                                                 ...   \n",
       "403  At least five suspected militants were killed ...   \n",
       "404                                                NaN   \n",
       "\n",
       "                                              Comments  \\\n",
       "0                                      Village in Wana   \n",
       "1    Civilian killied was Samiullah Khan who was a ...   \n",
       "..                                                 ...   \n",
       "403  Conflict of Report: Foreign media reported tha...   \n",
       "404                                                NaN   \n",
       "\n",
       "                                            References  Longitude Latitude  \\\n",
       "0         http://archives.dawn.com/2004/06/19/top1.htm    69.9000  33.0333   \n",
       "1                 http://www.msnbc.msn.com/id/7847008/    70.1455  32.9746   \n",
       "..                                                 ...        ...      ...   \n",
       "403  http://www.thesundaily.my/news/2017/10/18/deat...        NaN      NaN   \n",
       "404                                                NaN        NaN      NaN   \n",
       "\n",
       "    Temperature(C) Temperature(F)  \n",
       "0           28.475         83.255  \n",
       "1           11.475         52.655  \n",
       "..             ...            ...  \n",
       "403            NaN            NaN  \n",
       "404            NaN            NaN  \n",
       "\n",
       "[405 rows x 25 columns]"
      ]
     },
     "execution_count": 2,
     "metadata": {},
     "output_type": "execute_result"
    }
   ],
   "source": [
    "df"
   ]
  },
  {
   "cell_type": "markdown",
   "metadata": {},
   "source": [
    "# Summary functions\n",
    "\n",
    "Pandas provides many simple \"summary functions\" (not an official name) which restructure the data in some useful way. For example, consider the `describe()` method:"
   ]
  },
  {
   "cell_type": "code",
   "execution_count": 3,
   "metadata": {},
   "outputs": [
    {
     "data": {
      "text/plain": [
       "count       173\n",
       "unique       76\n",
       "top       10:00\n",
       "freq         10\n",
       "Name: Time, dtype: object"
      ]
     },
     "execution_count": 3,
     "metadata": {},
     "output_type": "execute_result"
    }
   ],
   "source": [
    "df.Time.describe()"
   ]
  },
  {
   "cell_type": "markdown",
   "metadata": {},
   "source": [
    "This method generates a high-level summary of the attributes of the given column. It is type-aware, meaning that its output changes based on the data type of the input. The output above only makes sense for numerical data; for string data here's what we get:"
   ]
  },
  {
   "cell_type": "code",
   "execution_count": 4,
   "metadata": {},
   "outputs": [
    {
     "data": {
      "text/plain": [
       "count            402\n",
       "unique           302\n",
       "top       Datta Khel\n",
       "freq              14\n",
       "Name: Location, dtype: object"
      ]
     },
     "execution_count": 4,
     "metadata": {},
     "output_type": "execute_result"
    }
   ],
   "source": [
    "df.Location.describe()"
   ]
  },
  {
   "cell_type": "markdown",
   "metadata": {},
   "source": [
    "If you want to get some particular simple summary statistic about a column in a DataFrame or a Series, there is usually a helpful pandas function that makes it happen. \n",
    "\n",
    "For example, to see the mean, we can use the `mean()` function:"
   ]
  },
  {
   "cell_type": "code",
   "execution_count": 5,
   "metadata": {},
   "outputs": [
    {
     "data": {
      "text/plain": [
       "16.01928927680796"
      ]
     },
     "execution_count": 5,
     "metadata": {},
     "output_type": "execute_result"
    }
   ],
   "source": [
    "df['Temperature(C)'].mean()"
   ]
  },
  {
   "cell_type": "markdown",
   "metadata": {},
   "source": [
    "To see a list of unique values we can use the `unique()` function:"
   ]
  },
  {
   "cell_type": "code",
   "execution_count": 6,
   "metadata": {},
   "outputs": [
    {
     "data": {
      "text/plain": [
       "array([ 28.475,  11.475,   7.08 ,   0.535,  10.025,  18.12 ,  25.77 ,\n",
       "        24.395,  15.325,  13.79 ,   2.18 ,  15.575,  18.32 ,  16.21 ,\n",
       "        27.24 ,  27.975,  27.47 ,  26.855,  25.555,  25.235,  24.175,\n",
       "        24.255,  24.8  ,  22.645,  20.55 ,  25.485,  22.615,  24.64 ,\n",
       "        24.585,  19.255,  22.595,  15.875,  16.47 ,  15.24 ,  17.5  ,\n",
       "        16.685,   8.815,  16.985,   8.75 ,  13.46 ,  12.465,   7.   ,\n",
       "         7.655,   5.69 ,   6.505,   9.365,   3.055,  20.   ,  14.21 ,\n",
       "        14.8  ,  18.315,  12.34 ,  13.   ,  17.275,  15.57 ,  11.065,\n",
       "        20.995,  23.6  ,  18.865,  22.4  ,  22.33 ,  18.075,  17.425,\n",
       "        21.67 ,  20.64 ,  25.65 ,  26.815,  23.24 ,  26.62 ,  26.395,\n",
       "        25.44 ,  23.805,  24.155,  21.295,  20.8  ,  22.705,  24.19 ,\n",
       "        22.16 ,  22.43 ,  14.825,  11.66 ,  19.145,  14.735,   5.025,\n",
       "         8.23 ,   3.95 ,   3.005,   3.53 ,   2.82 ,   3.46 ,   5.87 ,\n",
       "         4.855,   6.26 ,   4.175,   3.58 ,   3.43 ,   5.63 ,   5.57 ,\n",
       "         6.12 ,   1.82 ,   1.06 ,   3.185,  -1.24 ,   0.68 ,   5.18 ,\n",
       "         8.915,   9.855,  12.135,  15.3  ,  16.74 ,  18.455,  16.27 ,\n",
       "        14.455,  15.145,  17.72 ,  18.55 ,  19.385,  18.235,  18.735,\n",
       "        21.625,  18.065,  18.98 ,  29.415,  23.385,  21.705,  20.61 ,\n",
       "        22.465,  26.965,  24.845,  26.11 ,  24.28 ,  25.66 ,  24.5  ,\n",
       "        25.625,  26.055,  24.505,  27.45 ,  26.91 ,  23.485,  25.25 ,\n",
       "        23.825,  23.44 ,  22.25 ,  22.35 ,  18.59 ,  20.065,  16.995,\n",
       "        18.38 ,  17.895,  19.375,  18.23 ,  19.395,  18.97 ,  19.685,\n",
       "        21.1  ,  19.29 ,  18.955,  18.62 ,  17.995,  18.905,  20.49 ,\n",
       "        18.81 ,  13.275,  13.355,  14.045,  14.475,  13.19 ,  12.24 ,\n",
       "         9.645,   9.64 ,  10.02 ,   9.525,   8.435,   8.01 ,   6.815,\n",
       "         5.08 ,   6.135,   7.24 ,  10.745,   9.22 ,   3.085,   2.635,\n",
       "         4.345,   4.69 ,   5.225,   5.12 ,   3.15 ,   2.275,   1.835,\n",
       "         1.79 ,   1.475,   3.325,   4.665,   5.21 ,   9.12 ,  13.235,\n",
       "        13.28 ,  15.48 ,  15.56 ,  15.38 ,  14.78 ,  17.75 ,  19.87 ,\n",
       "        21.745,  21.975,  20.5  ,  24.33 ,  24.59 ,  23.49 ,  20.72 ,\n",
       "        24.755,  26.5  ,  26.675,  27.95 ,  26.975,  26.935,  24.455,\n",
       "        25.   ,  25.39 ,  25.4  ,  24.605,  25.725,  25.14 ,  22.96 ,\n",
       "        22.725,  26.36 ,  24.065,  18.985,  21.325,  19.91 ,  14.685,\n",
       "        13.905,  13.77 ,  12.505,  12.125,  11.345,  11.97 ,   0.305,\n",
       "        13.95 ,   2.885,  -3.435,  -3.585,  -1.61 ,  -1.67 ,   3.66 ,\n",
       "         4.17 ,  18.035,  14.565,  19.69 ,  20.055,  17.54 ,  22.44 ,\n",
       "        23.795,  20.78 ,  22.495,  23.33 ,  25.605,  27.415,  26.555,\n",
       "        25.67 ,  25.585,  26.385,  24.815,  24.26 ,  18.245,  19.07 ,\n",
       "        18.645,  15.345,  15.905,  11.365,   5.07 ,   5.28 ,   8.69 ,\n",
       "         6.555,   3.705,  -3.165,   0.875,  -0.76 ,   0.57 ,   4.315,\n",
       "         2.08 ,   4.005,  12.25 ,  15.895,  16.305,  20.885,  22.025,\n",
       "        25.04 ,  23.675,  23.565,  14.82 ,  14.375,  15.42 ,  10.095,\n",
       "        16.715,   3.675,  28.98 ,  28.845,  29.485,  29.29 ,  27.875,\n",
       "        29.425,  27.12 ,  25.42 ,  25.31 ,  24.915,  23.835,  20.58 ,\n",
       "        15.785,  13.695,  12.325,  12.64 ,  13.405,  12.99 ,  11.16 ,\n",
       "         9.53 ,  12.65 ,   7.23 ,   8.08 ,   7.975,   9.67 ,  12.6  ,\n",
       "        18.15 ,  25.75 ,  25.165,  26.98 ,  25.495,  15.99 ,   7.94 ,\n",
       "         6.755,   7.18 ,  -7.765, -14.155,   8.745,  23.   ,  29.   ,\n",
       "        26.   ,     nan])"
      ]
     },
     "execution_count": 6,
     "metadata": {},
     "output_type": "execute_result"
    }
   ],
   "source": [
    "df['Temperature(C)'].unique()"
   ]
  },
  {
   "cell_type": "code",
   "execution_count": 7,
   "metadata": {},
   "outputs": [
    {
     "data": {
      "text/plain": [
       "array(['22:00', '23:30', nan, '3:00', '10:30', '4:00', '2:00', '15:35',\n",
       "       '20:00', '20:30', '19:00', '16:30', '15:00', '17:00', '9:00',\n",
       "       '10:20', '5:30', '16:00', '11:30', '10:00', '1:45', '4:30', '7:45',\n",
       "       '22:30', '19:45', '20:15', '8:00', '6:30', '15:50', '23:45',\n",
       "       '6:05', '23:00', '19:30', '3:40', '1:30', '6:20', '3:50', '15:30',\n",
       "       '8:50', '11:00', '18:30', '17:30', '3:30', '14:00', '21:20',\n",
       "       '12:45', '21:00', '21:30', '6:00', '12:00', '7:30', '9:30', '7:00',\n",
       "       '6:15', '17:40', '17:35', '14:45', '17:45', '23:15', '5:45',\n",
       "       '18:00', '22:45', '6:45', '7:15', '8:30', '3:15', '20:45', '13:30',\n",
       "       '16:40', '12:15', '2:30', '1:00', '5:00', '4:45', '17:50', '12:30',\n",
       "       '15:45'], dtype=object)"
      ]
     },
     "execution_count": 7,
     "metadata": {},
     "output_type": "execute_result"
    }
   ],
   "source": [
    "df['Time'].unique()"
   ]
  },
  {
   "cell_type": "markdown",
   "metadata": {},
   "source": [
    "To see a list of unique values _and_ how often they occur in the dataset, we can use the `value_counts()` method:"
   ]
  },
  {
   "cell_type": "code",
   "execution_count": 8,
   "metadata": {},
   "outputs": [
    {
     "data": {
      "text/plain": [
       "10:00    10\n",
       "12:00     7\n",
       "         ..\n",
       "17:40     1\n",
       "15:45     1\n",
       "Name: Time, Length: 76, dtype: int64"
      ]
     },
     "execution_count": 8,
     "metadata": {},
     "output_type": "execute_result"
    }
   ],
   "source": [
    "df.Time.value_counts()"
   ]
  }
 ],
 "metadata": {
  "kernelspec": {
   "display_name": "Python 3 (ipykernel)",
   "language": "python",
   "name": "python3"
  },
  "language_info": {
   "codemirror_mode": {
    "name": "ipython",
    "version": 3
   },
   "file_extension": ".py",
   "mimetype": "text/x-python",
   "name": "python",
   "nbconvert_exporter": "python",
   "pygments_lexer": "ipython3",
   "version": "3.8.8"
  }
 },
 "nbformat": 4,
 "nbformat_minor": 4
}
