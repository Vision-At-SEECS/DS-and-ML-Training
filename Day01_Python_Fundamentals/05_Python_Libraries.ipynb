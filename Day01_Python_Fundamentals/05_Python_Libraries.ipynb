{
 "cells": [
  {
   "cell_type": "markdown",
   "id": "feb3891a",
   "metadata": {},
   "source": [
    "![Bismillah.png](../Images/Bismillah.png)"
   ]
  },
  {
   "cell_type": "markdown",
   "id": "97a41621",
   "metadata": {},
   "source": [
    "# NumPy Arrays\n",
    "\n",
    "- NumPy is a Python library used for working with arrays.\n",
    "- It also has functions for working in domain of linear algebra, fourier transform, and matrices.\n",
    "- NumPy stands for Numerical Python.\n",
    "\n",
    "## Use of NumPy\n",
    "- In Python we have lists that serve the purpose of arrays, but they are slow to process.\n",
    "- NumPy aims to provide an array object that is up to 50x faster than traditional Python lists.\n",
    "- The array object in NumPy is called **ndarray**, it provides a lot of supporting functions that make working with **ndarray** very easy.\n",
    "- Arrays are very frequently used in data science, where speed and resources are very important.\n",
    "\n",
    "## NumPy is Faster Than Lists\n",
    "- NumPy arrays are stored at one continuous place in memory unlike lists, so processes can access and manipulate them very efficiently.\n",
    "- This behavior is called locality of reference in computer science.\n",
    "- This is the main reason why NumPy is faster than lists. Also it is optimized to work with latest CPU architectures."
   ]
  },
  {
   "cell_type": "markdown",
   "id": "cb9f882c",
   "metadata": {},
   "source": [
    "Once NumPy is installed, import it in your applications by adding the import keyword:"
   ]
  },
  {
   "cell_type": "code",
   "execution_count": 1,
   "id": "9a756bf3",
   "metadata": {},
   "outputs": [
    {
     "name": "stdout",
     "output_type": "stream",
     "text": [
      "1.20.3\n"
     ]
    }
   ],
   "source": [
    "import numpy as np\n",
    "print(np.__version__)"
   ]
  },
  {
   "cell_type": "markdown",
   "id": "af3e2313",
   "metadata": {},
   "source": [
    "## Crearing an array in Numpy\n",
    "\n",
    "NumPy is used to work with arrays. The array object in NumPy is called <b>ndarray</b>.\n",
    "We can create a NumPy ndarray object by using the array() function. To create an ndarray, we can pass a list, tuple or any array-like object into the array() method, and it will be converted into an ndarray:"
   ]
  },
  {
   "cell_type": "code",
   "execution_count": 2,
   "id": "7bebf2d6",
   "metadata": {},
   "outputs": [
    {
     "name": "stdout",
     "output_type": "stream",
     "text": [
      "[1 2 3 4 5]\n",
      "<class 'numpy.ndarray'>\n"
     ]
    }
   ],
   "source": [
    "a = np.array([1, 2, 3, 4, 5])\n",
    "print(a)\n",
    "print(type(a))"
   ]
  },
  {
   "cell_type": "markdown",
   "id": "57f87e28",
   "metadata": {},
   "source": [
    "## Dimensions in Arrays\n",
    "### 0-D Array\n",
    "0-D arrays, or Scalars, are the elements in an array. Each value in an array is a 0-D array."
   ]
  },
  {
   "cell_type": "code",
   "execution_count": 3,
   "id": "53dddddc",
   "metadata": {},
   "outputs": [
    {
     "name": "stdout",
     "output_type": "stream",
     "text": [
      "1\n",
      "<class 'numpy.ndarray'>\n"
     ]
    }
   ],
   "source": [
    "a = np.array(1)\n",
    "print(a)\n",
    "print(type(a))"
   ]
  },
  {
   "cell_type": "markdown",
   "id": "4ce29385",
   "metadata": {},
   "source": [
    "### 1-D Array"
   ]
  },
  {
   "cell_type": "code",
   "execution_count": 4,
   "id": "4177ddfb",
   "metadata": {},
   "outputs": [
    {
     "name": "stdout",
     "output_type": "stream",
     "text": [
      "[1 2 3 4 5]\n",
      "<class 'numpy.ndarray'>\n"
     ]
    }
   ],
   "source": [
    "a = np.array([1, 2, 3, 4, 5])\n",
    "print(a)\n",
    "print(type(a))"
   ]
  },
  {
   "cell_type": "markdown",
   "id": "93565430",
   "metadata": {},
   "source": [
    "### 2-D Array"
   ]
  },
  {
   "cell_type": "code",
   "execution_count": 5,
   "id": "cf90bf26",
   "metadata": {},
   "outputs": [
    {
     "name": "stdout",
     "output_type": "stream",
     "text": [
      "[[1 2 3]\n",
      " [4 5 6]]\n"
     ]
    }
   ],
   "source": [
    "a = np.array([[1, 2, 3], [4, 5, 6]])\n",
    "\n",
    "print(a)"
   ]
  },
  {
   "cell_type": "markdown",
   "id": "7b31c8c5",
   "metadata": {},
   "source": [
    "### 3-D Array"
   ]
  },
  {
   "cell_type": "code",
   "execution_count": 6,
   "id": "eaa1eb2c",
   "metadata": {},
   "outputs": [
    {
     "name": "stdout",
     "output_type": "stream",
     "text": [
      "[[[1 2 3]\n",
      "  [4 5 6]]\n",
      "\n",
      " [[1 2 3]\n",
      "  [4 5 6]]]\n"
     ]
    }
   ],
   "source": [
    "a = np.array([[[1, 2, 3], [4, 5, 6]], [[1, 2, 3], [4, 5, 6]]])\n",
    "\n",
    "print(a)"
   ]
  },
  {
   "cell_type": "code",
   "execution_count": 7,
   "id": "869f18b7",
   "metadata": {},
   "outputs": [
    {
     "data": {
      "text/plain": [
       "3"
      ]
     },
     "execution_count": 7,
     "metadata": {},
     "output_type": "execute_result"
    }
   ],
   "source": [
    "#check dimension\n",
    "a.ndim"
   ]
  },
  {
   "cell_type": "markdown",
   "id": "d3c66416",
   "metadata": {},
   "source": [
    "### Higher Dimension Array\n",
    "\n",
    "Lets create an arry with desired dimensions:"
   ]
  },
  {
   "cell_type": "code",
   "execution_count": 8,
   "id": "06385802",
   "metadata": {},
   "outputs": [
    {
     "name": "stdout",
     "output_type": "stream",
     "text": [
      "[[[[[1 2 3 4]]]]]\n",
      "number of dimensions : 5\n"
     ]
    }
   ],
   "source": [
    "a = np.array([1, 2, 3, 4], ndmin=5)\n",
    "print(a)\n",
    "print('number of dimensions :', a.ndim)"
   ]
  },
  {
   "cell_type": "markdown",
   "id": "b3014c5b",
   "metadata": {},
   "source": [
    "In this array the innermost dimension (5th dim) has 4 elements, the 4th dim has 1 element that is the vector, the 3rd dim has 1 element that is the matrix with the vector, the 2nd dim has 1 element that is 3D array and 1st dim has 1 element that is a 4D array."
   ]
  },
  {
   "cell_type": "markdown",
   "id": "54195d61",
   "metadata": {},
   "source": [
    "## Indexing\n",
    "Array indexing is the same as accessing an array element."
   ]
  },
  {
   "cell_type": "markdown",
   "id": "5ef0eba5",
   "metadata": {},
   "source": [
    "a = np.array([1, 2, 3, 4])\n",
    "\n",
    "print(a[0])"
   ]
  },
  {
   "cell_type": "code",
   "execution_count": 9,
   "id": "89949156",
   "metadata": {},
   "outputs": [
    {
     "name": "stdout",
     "output_type": "stream",
     "text": [
      "5th element on 2nd dim:  10\n"
     ]
    }
   ],
   "source": [
    "a = np.array([[1,2,3,4,5], [6,7,8,9,10]])\n",
    "\n",
    "print('5th element on 2nd dim: ', a[1, 4])"
   ]
  },
  {
   "cell_type": "code",
   "execution_count": 10,
   "id": "135583fe",
   "metadata": {},
   "outputs": [
    {
     "name": "stdout",
     "output_type": "stream",
     "text": [
      "Last element from 2nd dim:  10\n"
     ]
    }
   ],
   "source": [
    "#Negative Indexing\n",
    "print('Last element from 2nd dim: ', a[1, -1])"
   ]
  },
  {
   "cell_type": "markdown",
   "id": "c22727e1",
   "metadata": {},
   "source": [
    "## Slicing\n",
    "\n",
    "Slicing in python means taking elements from one given index to another given index.\n",
    "\n",
    "We pass slice instead of index like this: [start:end].\n",
    "\n",
    "We can also define the step, like this: [start:end:step].\n",
    "\n",
    "<b>Note</b>: The result includes the start index, but excludes the end index."
   ]
  },
  {
   "cell_type": "code",
   "execution_count": 11,
   "id": "d558a2db",
   "metadata": {},
   "outputs": [
    {
     "name": "stdout",
     "output_type": "stream",
     "text": [
      "[2 3 4 5]\n"
     ]
    }
   ],
   "source": [
    "a = np.array([1, 2, 3, 4, 5, 6, 7])\n",
    "\n",
    "print(a[1:5]) #1 to 4th index"
   ]
  },
  {
   "cell_type": "code",
   "execution_count": 12,
   "id": "0e6e5349",
   "metadata": {},
   "outputs": [
    {
     "name": "stdout",
     "output_type": "stream",
     "text": [
      "[5 6 7]\n"
     ]
    }
   ],
   "source": [
    "print(a[4:]) #4 to end"
   ]
  },
  {
   "cell_type": "code",
   "execution_count": 13,
   "id": "ad2b0a20",
   "metadata": {},
   "outputs": [
    {
     "name": "stdout",
     "output_type": "stream",
     "text": [
      "[1 2 3 4]\n"
     ]
    }
   ],
   "source": [
    "print(a[:4]) #start to 3rd"
   ]
  },
  {
   "cell_type": "markdown",
   "id": "7a126ec5",
   "metadata": {},
   "source": [
    "### Step in slicing\n",
    "Use the step value to determine the step of the slicing:"
   ]
  },
  {
   "cell_type": "code",
   "execution_count": 14,
   "id": "14302d4a",
   "metadata": {},
   "outputs": [
    {
     "name": "stdout",
     "output_type": "stream",
     "text": [
      "[2 4]\n"
     ]
    }
   ],
   "source": [
    "print(a[1:5:2]) #skip every 2nd element"
   ]
  },
  {
   "cell_type": "markdown",
   "id": "e1a88b49",
   "metadata": {},
   "source": [
    "Return every other element from the entire array:"
   ]
  },
  {
   "cell_type": "code",
   "execution_count": 15,
   "id": "5a1cc29d",
   "metadata": {},
   "outputs": [
    {
     "name": "stdout",
     "output_type": "stream",
     "text": [
      "[1 3 5 7]\n"
     ]
    }
   ],
   "source": [
    "print(a[::2]) #skip 2nd from start to end"
   ]
  },
  {
   "cell_type": "markdown",
   "id": "1545c4c9",
   "metadata": {},
   "source": [
    "For 2D arrays"
   ]
  },
  {
   "cell_type": "code",
   "execution_count": 16,
   "id": "d7ba66e2",
   "metadata": {},
   "outputs": [
    {
     "name": "stdout",
     "output_type": "stream",
     "text": [
      "[[2 3 4]\n",
      " [7 8 9]]\n"
     ]
    }
   ],
   "source": [
    "a = np.array([[1, 2, 3, 4, 5], [6, 7, 8, 9, 10]])\n",
    "\n",
    "print(a[0:2, 1:4])"
   ]
  },
  {
   "cell_type": "markdown",
   "id": "9845e573",
   "metadata": {},
   "source": [
    "## Data Types in NumPy\n",
    "NumPy has some extra data types, and refer to data types with one character, like i for integers, u for unsigned integers etc.\n",
    "\n",
    "Below is a list of all data types in NumPy and the characters used to represent them.\n",
    "\n",
    "- i - integer\n",
    "- b - boolean\n",
    "- u - unsigned integer\n",
    "- f - float\n",
    "- c - complex float\n",
    "- m - timedelta\n",
    "- M - datetime\n",
    "- O - object\n",
    "- S - string\n",
    "- U - unicode string\n",
    "- V - fixed chunk of memory for other type ( void )"
   ]
  },
  {
   "cell_type": "code",
   "execution_count": 17,
   "id": "f3a69dd7",
   "metadata": {},
   "outputs": [
    {
     "name": "stdout",
     "output_type": "stream",
     "text": [
      "int32\n"
     ]
    }
   ],
   "source": [
    "print(a.dtype)"
   ]
  },
  {
   "cell_type": "code",
   "execution_count": 18,
   "id": "179d5923",
   "metadata": {},
   "outputs": [
    {
     "name": "stdout",
     "output_type": "stream",
     "text": [
      "<U6\n"
     ]
    }
   ],
   "source": [
    "a = np.array(['apple', 'banana', 'cherry'])\n",
    "\n",
    "print(a.dtype) #unicode string"
   ]
  },
  {
   "cell_type": "markdown",
   "id": "8c6aa9b4",
   "metadata": {},
   "source": [
    "We use the array() function to create arrays, this function can take an optional argument: dtype that allows us to define the expected data type of the array elements:"
   ]
  },
  {
   "cell_type": "code",
   "execution_count": 19,
   "id": "266f1b41",
   "metadata": {},
   "outputs": [
    {
     "name": "stdout",
     "output_type": "stream",
     "text": [
      "[b'1' b'2' b'3' b'4']\n",
      "|S1\n"
     ]
    }
   ],
   "source": [
    "a = np.array([1, 2, 3, 4], dtype='S')\n",
    "\n",
    "print(a)\n",
    "print(a.dtype)"
   ]
  },
  {
   "cell_type": "markdown",
   "id": "fbb9e9de",
   "metadata": {},
   "source": [
    "## Changing Arrays dtypes\n",
    "Lets see an example for changing integer to boolean:"
   ]
  },
  {
   "cell_type": "code",
   "execution_count": 20,
   "id": "e37db977",
   "metadata": {},
   "outputs": [
    {
     "name": "stdout",
     "output_type": "stream",
     "text": [
      "[False  True  True  True False]\n",
      "bool\n"
     ]
    }
   ],
   "source": [
    "a = np.array([0,1,2,3,0])\n",
    "new = a.astype(bool)\n",
    "\n",
    "print(new)\n",
    "print(new.dtype)"
   ]
  },
  {
   "cell_type": "markdown",
   "id": "6d616df5",
   "metadata": {},
   "source": [
    "# Array Maths"
   ]
  },
  {
   "cell_type": "markdown",
   "id": "7e5ab1f0",
   "metadata": {},
   "source": [
    "## Basic mathematical functions operate elementwise on arrays"
   ]
  },
  {
   "cell_type": "code",
   "execution_count": 21,
   "id": "1b2f294f",
   "metadata": {},
   "outputs": [],
   "source": [
    "x = np.array([[1,2],[3,4]], dtype=np.float64)\n",
    "y = np.array([[5,6],[7,8]], dtype=np.float64)"
   ]
  },
  {
   "cell_type": "markdown",
   "id": "20af0160",
   "metadata": {},
   "source": [
    "Elemetwise sum"
   ]
  },
  {
   "cell_type": "code",
   "execution_count": 22,
   "id": "120db19e",
   "metadata": {},
   "outputs": [
    {
     "name": "stdout",
     "output_type": "stream",
     "text": [
      "[[ 6.  8.]\n",
      " [10. 12.]]\n"
     ]
    }
   ],
   "source": [
    "print(np.add(x, y))"
   ]
  },
  {
   "cell_type": "markdown",
   "id": "5c6e77c6",
   "metadata": {},
   "source": [
    "Elemetwise difference"
   ]
  },
  {
   "cell_type": "code",
   "execution_count": 23,
   "id": "4d2d89d3",
   "metadata": {},
   "outputs": [
    {
     "name": "stdout",
     "output_type": "stream",
     "text": [
      "[[-4. -4.]\n",
      " [-4. -4.]]\n"
     ]
    }
   ],
   "source": [
    "print(np.subtract(x, y))"
   ]
  },
  {
   "cell_type": "markdown",
   "id": "4dfd6219",
   "metadata": {},
   "source": [
    "Elemetwise multiplication"
   ]
  },
  {
   "cell_type": "code",
   "execution_count": 24,
   "id": "ddad7d00",
   "metadata": {},
   "outputs": [
    {
     "name": "stdout",
     "output_type": "stream",
     "text": [
      "[[ 5. 12.]\n",
      " [21. 32.]]\n"
     ]
    }
   ],
   "source": [
    "print(np.multiply(x, y))"
   ]
  },
  {
   "cell_type": "code",
   "execution_count": 25,
   "id": "ded36d63",
   "metadata": {},
   "outputs": [
    {
     "name": "stdout",
     "output_type": "stream",
     "text": [
      "[[0.2        0.33333333]\n",
      " [0.42857143 0.5       ]]\n"
     ]
    }
   ],
   "source": [
    "print(np.divide(x, y))"
   ]
  },
  {
   "cell_type": "code",
   "execution_count": 26,
   "id": "0aad2038",
   "metadata": {},
   "outputs": [
    {
     "name": "stdout",
     "output_type": "stream",
     "text": [
      "[[1.         1.41421356]\n",
      " [1.73205081 2.        ]]\n"
     ]
    }
   ],
   "source": [
    "print(np.sqrt(x))"
   ]
  }
 ],
 "metadata": {
  "kernelspec": {
   "display_name": "Python 3 (ipykernel)",
   "language": "python",
   "name": "python3"
  },
  "language_info": {
   "codemirror_mode": {
    "name": "ipython",
    "version": 3
   },
   "file_extension": ".py",
   "mimetype": "text/x-python",
   "name": "python",
   "nbconvert_exporter": "python",
   "pygments_lexer": "ipython3",
   "version": "3.8.8"
  }
 },
 "nbformat": 4,
 "nbformat_minor": 5
}
