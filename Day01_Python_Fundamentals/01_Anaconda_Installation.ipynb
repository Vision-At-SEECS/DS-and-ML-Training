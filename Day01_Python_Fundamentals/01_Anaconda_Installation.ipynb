{
 "cells": [
  {
   "cell_type": "markdown",
   "id": "33540f69",
   "metadata": {},
   "source": [
    "![Bismillah.png](../Images/Bismillah.png)"
   ]
  },
  {
   "cell_type": "markdown",
   "id": "aefb5831",
   "metadata": {},
   "source": [
    "# Python Anaconda Tutorial\n",
    "## Introduction To Anaconda"
   ]
  },
  {
   "attachments": {},
   "cell_type": "markdown",
   "id": "bd793a7f",
   "metadata": {},
   "source": [
    "Anaconda is an **open-source** distribution for *python and R*.\n",
    "It is used for\n",
    "- data science\n",
    "- machine learning\n",
    "- deep learning, etc.\n",
    "\n",
    "With the availability of more than 300 libraries for data science, it becomes fairly optimal for any programmer to work on anaconda for data science.\n",
    "\n",
    "![image.png](../Images/Anaconda.png)\n",
    "\n",
    "1. Anaconda helps in simplified package management and deployment.\n",
    "2. Anaconda comes with a wide variety of tools to easily collect data from various sources using various machine learning and AI algorithms.\n",
    "3. It helps in getting an easily manageable environment setup which can deploy any project with the click of a single button.\n",
    "\n",
    "Now that we know what anaconda is, let’s try to understand how we can install anaconda and set up an environment to work on our systems."
   ]
  },
  {
   "cell_type": "markdown",
   "id": "e8a4a5d6",
   "metadata": {},
   "source": [
    "## Installation And Setup"
   ]
  },
  {
   "cell_type": "markdown",
   "id": "7bef3c52",
   "metadata": {},
   "source": [
    "To install anaconda go to https://www.anaconda.com/distribution/"
   ]
  },
  {
   "cell_type": "markdown",
   "id": "c29fa9ba",
   "metadata": {},
   "source": [
    "Images | Images\n",
    "- | -\n",
    "![image-3.png](../Images/index1.png) | ![image.png](../Images/index2.png)"
   ]
  },
  {
   "cell_type": "markdown",
   "id": "4f2f3681",
   "metadata": {},
   "source": [
    "Or use this link https://www.anaconda.com/products/individual-d#Downloads"
   ]
  },
  {
   "cell_type": "markdown",
   "id": "044bfdaf",
   "metadata": {},
   "source": [
    "Choose a version suitable for you and click on download.\n",
    "![image-2.png](../Images/Anaconda_installer.png)"
   ]
  },
  {
   "cell_type": "markdown",
   "id": "774ffedb",
   "metadata": {},
   "source": [
    "- Once you complete the download, open the setup\n",
    "- Follow the instructions in the setup.\n",
    "- Don’t forget to click on add anaconda to my path environment variable. \n",
    "\n",
    "Images | Images | Images \n",
    "- | - | -\n",
    "![alt](../Images/1.jpeg) | ![alt](../Images/2.jpeg) | ![alt](../Images/3.jpeg)\n",
    "![alt](../Images/4.jpeg) | ![alt](../Images/5.jpeg) | ![alt](../Images/6.jpeg)\n",
    "![alt](../Images/7.jpeg) | ![alt](../Images/8.jpeg) | ![alt](../Images/9.jpeg)"
   ]
  },
  {
   "cell_type": "markdown",
   "id": "ace8313b",
   "metadata": {},
   "source": [
    "After finishing the installation\n",
    "open anaconda navigator and Click on Lunch under jupyter notebook icon.\n",
    "\n",
    "You will see a window like shown in the image below.\n",
    "\n",
    "Anaconda Navigator is a desktop GUI that comes with the anaconda distribution. It allows us to launch applications and manage conda packages, environment and without using command-line commands.\n",
    "\n",
    "` | `\n",
    "- | -\n",
    "![image.png](../Images/1.png) | ![image-2.png](../Images/2.png)"
   ]
  },
  {
   "cell_type": "markdown",
   "id": "695d0bb5",
   "metadata": {},
   "source": [
    "Now that we know how to use anaconda for python lets take a look at how we can install various libraries in anaconda for any project."
   ]
  },
  {
   "cell_type": "markdown",
   "id": "4b73fd18",
   "metadata": {},
   "source": [
    "## Jupyter Notebook"
   ]
  },
  {
   "cell_type": "markdown",
   "id": "346b8359",
   "metadata": {},
   "source": [
    "The Jupyter Notebook is an **open-source** **web application** that allows you to **create** and **share documents** that contain **live code**, **equations**, **visualizations and narrative text**.\n",
    "\n",
    "Uses include:\n",
    "- data cleaning and transformation\n",
    "- numerical simulation\n",
    "- statistical modeling\n",
    "- data visualization\n",
    "- machine learning, and much more."
   ]
  },
  {
   "cell_type": "markdown",
   "id": "1e0ccfb4",
   "metadata": {},
   "source": [
    "### Jupyter Notebook Shortcuts for developers\n",
    "Link to [Notebook 2](02_Anaconda_Shortcuts.ipynb)"
   ]
  },
  {
   "cell_type": "markdown",
   "id": "2c6f36a2",
   "metadata": {},
   "source": [
    "## Installing Python Libraries In Anaconda\n",
    "Two ways to install python libraries\n",
    "Using\n",
    "- Anaconda prompt\n",
    "- Jupyter Notebook\n",
    "\n",
    "(Libraries in programming languages are collections of prewritten code that users can use to optimize tasks.)"
   ]
  },
  {
   "cell_type": "markdown",
   "id": "9158de40",
   "metadata": {},
   "source": [
    "Check **Python** by typing the following:\n",
    "- python --version\n",
    "\n",
    "Activate **python** environment by typing the following:\n",
    "- python\n",
    "\n",
    "Check **numpy** by typing the following:\n",
    "- import numpy\n",
    "\n",
    "![Images/Capture1.png](../Images/Capture1.PNG)\n",
    "\n",
    "Since there is no module named numpy present, we will run the following command to install numpy.\n",
    "\n",
    "- conda install numpy\n",
    "\n",
    "![Images\\Capture2.png](../Images/Capture2.PNG)\n",
    "\n",
    "You will get the window shown in the image once you complete the installation.\n",
    "\n",
    "![Images\\Capture3.png](../Images/Capture3.PNG)\n",
    "\n",
    "Once you have installed a library, just try to import the module again for assurance.\n",
    "\n",
    "![Images\\Capture4.png](../Images/Capture4.PNG)\n",
    "\n",
    "As you can see, there is no error that we got in the beginning, so this is how we can install various libraries in anaconda."
   ]
  },
  {
   "cell_type": "markdown",
   "id": "d03cea3f",
   "metadata": {},
   "source": [
    "## Virtual environment in system Python\n",
    "Running with the system Python and libraries limits you to one specific Python version, chosen by your OS provider. Trying to run all Python applications on one Python installation makes it likely that version conflicts will occur among the collection of libraries. It's also possible that changes to the system Python will break other OS features that depend on it.\n",
    "\n",
    "Virtual environments, or \"virtualenvs\" are lightweight, self-contained Python installations, designed to be set up with a minimum of fuss, and to \"just work\" without requiring extensive configuration or specialized knowledge.\n",
    "\n",
    "virtualenv avoids the need to install Python packages globally. When a virtualenv is active, you will install packages within the environment, which does not affect the base Python installation in any way. Thus, allowing you to have isloated version of packages for each project you are working on."
   ]
  },
  {
   "cell_type": "markdown",
   "id": "17e450a1",
   "metadata": {},
   "source": [
    "## Anaconda Virtual Environment\n",
    "Once you are done with installing anaconda, the next step is to create a virtual environment for you project.\n",
    "To setup a virtual environment (lets name it \"myenv\")\n",
    "```\n",
    "# this will create environment at location path/to/anaconda3/envs/ with specific version of python\n",
    "conda create --name myenv myenv python=3.7\n",
    "```\n",
    "To activate enter command `activate myenv` and `deactivate` to simply return to base environment or exit the terminal.\n",
    "\n",
    "some useful commands in anaconda are:\n",
    "```\n",
    "# display lists of environments\n",
    "conda info --envs\n",
    "\n",
    "# install pip in anaconda, pip is useful for installing python packages\n",
    "conda install pip\n",
    "\n",
    "# for example to install opencv\n",
    "pip install opencv-python\n",
    "\n",
    "# To run jupyter notebook from anaconda enter following command in your project directory\n",
    "jupyter notebook\n",
    "```"
   ]
  }
 ],
 "metadata": {
  "kernelspec": {
   "display_name": "Python 3 (ipykernel)",
   "language": "python",
   "name": "python3"
  },
  "language_info": {
   "codemirror_mode": {
    "name": "ipython",
    "version": 3
   },
   "file_extension": ".py",
   "mimetype": "text/x-python",
   "name": "python",
   "nbconvert_exporter": "python",
   "pygments_lexer": "ipython3",
   "version": "3.8.8"
  }
 },
 "nbformat": 4,
 "nbformat_minor": 5
}
