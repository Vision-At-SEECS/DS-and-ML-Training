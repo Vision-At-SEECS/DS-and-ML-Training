{
 "cells": [
  {
   "cell_type": "markdown",
   "id": "f0762fe1",
   "metadata": {},
   "source": [
    "![Bismillah.png](../Images/Bismillah.png)"
   ]
  },
  {
   "cell_type": "markdown",
   "id": "09b7bfb8",
   "metadata": {},
   "source": [
    "# Shortcuts\n",
    "Note that the shortcuts are for Windows Users\n",
    "Firstly, we need to know that they are **2 modes** in the Jupyter Notebook:\n",
    "- *Command mode*\n",
    "- *Edit mode*"
   ]
  },
  {
   "cell_type": "markdown",
   "id": "e8b2dbcb",
   "metadata": {},
   "source": [
    "### Shortcuts in both modes:\n",
    "\n",
    "- **Shift + Enter**\n",
    "    - run the current cell, select below\n",
    "- **Ctrl + Enter**\n",
    "    - run selected cells\n",
    "- **Alt + Enter**\n",
    "    - run the current cell, insert below\n",
    "- **Ctrl + S**\n",
    "    - save and checkpoint"
   ]
  },
  {
   "cell_type": "markdown",
   "id": "45d73dda",
   "metadata": {},
   "source": [
    "### Command mode (press Esc to activate):\n",
    "- **Enter**\n",
    "    - take you into edit mode\n",
    "- **H**\n",
    "    - show all shortcuts\n",
    "- **Up**\n",
    "    - select cell above\n",
    "- **Down**\n",
    "    - select cell below\n",
    "- **Shift + Up**\n",
    "    - extend selected cells above\n",
    "- **Shift + Down**\n",
    "    - extend selected cells below\n",
    "- **A**\n",
    "    - insert cell above\n",
    "- **B**\n",
    "    - insert cell below\n",
    "- **X**\n",
    "    - cut selected cells\n",
    "- **C**\n",
    "    - copy selected cells\n",
    "- **V**\n",
    "    - paste cells below\n",
    "- **Shift + V**\n",
    "    - paste cells above\n",
    "- **Z**\n",
    "    - undo cell deletion\n",
    "- **S**\n",
    "    - Save and Checkpoint\n",
    "- **Y**\n",
    "    - change the cell type to Code\n",
    "- **M**\n",
    "    - change the cell type to Markdown\n",
    "- **Shift + Space**\n",
    "    - scroll notebook up\n",
    "- **Space**\n",
    "    - scroll notebook down\n",
    "\n",
    "- **D,D(press the key twice)**\n",
    "    - delete selected cells\n",
    "- **P**\n",
    "    - open the command palette.\n",
    "    - This dialog helps you run any command by name. It’s really useful if you don’t know some shortcut or when you don’t have a shortcut for the wanted command."
   ]
  },
  {
   "cell_type": "markdown",
   "id": "edce061d",
   "metadata": {},
   "source": [
    "### Edit mode (press Enter to activate):\n",
    "\n",
    "- **Esc**\n",
    "    - take you into command mode\n",
    "- **Tab**\n",
    "    - code completion or indent\n",
    "- **Shift + Tab**\n",
    "    - tooltip\n",
    "- **Ctrl + ]**\n",
    "    - indent\n",
    "- **Ctrl + [**\n",
    "    - dedent\n",
    "- **Ctrl + A**\n",
    "    - select all\n",
    "- **Ctrl + Z**\n",
    "    - undo\n",
    "- **Ctrl + Shift + Z** or **Ctrl + Y**\n",
    "    - redo\n",
    "- **Ctrl + Home**\n",
    "    - go to cell start\n",
    "- **Ctrl + End**\n",
    "    - go to cell end\n",
    "- **Ctrl + Left**\n",
    "    - go one word left\n",
    "- **Ctrl + Right**\n",
    "    - go one word right\n",
    "- **Ctrl + Shift + P**\n",
    "    - open the command palette\n",
    "- **Down**\n",
    "    - move cursor down\n",
    "- **Up**\n",
    "    - move cursor up"
   ]
  }
 ],
 "metadata": {
  "kernelspec": {
   "display_name": "Python 3 (ipykernel)",
   "language": "python",
   "name": "python3"
  },
  "language_info": {
   "codemirror_mode": {
    "name": "ipython",
    "version": 3
   },
   "file_extension": ".py",
   "mimetype": "text/x-python",
   "name": "python",
   "nbconvert_exporter": "python",
   "pygments_lexer": "ipython3",
   "version": "3.8.8"
  }
 },
 "nbformat": 4,
 "nbformat_minor": 5
}
