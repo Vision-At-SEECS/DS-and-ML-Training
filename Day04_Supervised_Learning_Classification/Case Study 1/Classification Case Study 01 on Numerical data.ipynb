{
 "cells": [
  {
   "cell_type": "markdown",
   "id": "794d5ce0",
   "metadata": {},
   "source": [
    "# Classification on Numerical Data Case Study 01"
   ]
  },
  {
   "cell_type": "markdown",
   "id": "3f3bac2d",
   "metadata": {},
   "source": [
    "### Importing basic libraries\n",
    "##### Pandas and numpy are the basic libraries that will invariably be used in machine learning pipelines, so we import them first"
   ]
  },
  {
   "cell_type": "code",
   "execution_count": 1,
   "id": "f1a04d3f",
   "metadata": {},
   "outputs": [],
   "source": [
    "import pandas as pd\n",
    "import numpy as np\n",
    "import warnings\n",
    "warnings.filterwarnings('ignore')\n",
    "from sklearn.ensemble import RandomForestClassifier\n",
    "from sklearn.metrics import classification_report\n",
    "from sklearn.metrics import plot_confusion_matrix\n",
    "from matplotlib import pyplot as plt"
   ]
  },
  {
   "cell_type": "markdown",
   "id": "47f21d70",
   "metadata": {},
   "source": [
    "#### Reading data"
   ]
  },
  {
   "cell_type": "code",
   "execution_count": 2,
   "id": "b962bc90",
   "metadata": {},
   "outputs": [
    {
     "data": {
      "text/html": [
       "<div>\n",
       "<style scoped>\n",
       "    .dataframe tbody tr th:only-of-type {\n",
       "        vertical-align: middle;\n",
       "    }\n",
       "\n",
       "    .dataframe tbody tr th {\n",
       "        vertical-align: top;\n",
       "    }\n",
       "\n",
       "    .dataframe thead th {\n",
       "        text-align: right;\n",
       "    }\n",
       "</style>\n",
       "<table border=\"1\" class=\"dataframe\">\n",
       "  <thead>\n",
       "    <tr style=\"text-align: right;\">\n",
       "      <th></th>\n",
       "      <th>buying</th>\n",
       "      <th>maint</th>\n",
       "      <th>doors</th>\n",
       "      <th>persons</th>\n",
       "      <th>lug_boot</th>\n",
       "      <th>safety</th>\n",
       "      <th>target</th>\n",
       "    </tr>\n",
       "  </thead>\n",
       "  <tbody>\n",
       "    <tr>\n",
       "      <th>0</th>\n",
       "      <td>vhigh</td>\n",
       "      <td>vhigh</td>\n",
       "      <td>2</td>\n",
       "      <td>2</td>\n",
       "      <td>small</td>\n",
       "      <td>med</td>\n",
       "      <td>unacc</td>\n",
       "    </tr>\n",
       "    <tr>\n",
       "      <th>1</th>\n",
       "      <td>vhigh</td>\n",
       "      <td>vhigh</td>\n",
       "      <td>2</td>\n",
       "      <td>2</td>\n",
       "      <td>small</td>\n",
       "      <td>high</td>\n",
       "      <td>unacc</td>\n",
       "    </tr>\n",
       "    <tr>\n",
       "      <th>2</th>\n",
       "      <td>vhigh</td>\n",
       "      <td>vhigh</td>\n",
       "      <td>2</td>\n",
       "      <td>2</td>\n",
       "      <td>med</td>\n",
       "      <td>low</td>\n",
       "      <td>unacc</td>\n",
       "    </tr>\n",
       "    <tr>\n",
       "      <th>3</th>\n",
       "      <td>vhigh</td>\n",
       "      <td>vhigh</td>\n",
       "      <td>2</td>\n",
       "      <td>2</td>\n",
       "      <td>med</td>\n",
       "      <td>med</td>\n",
       "      <td>unacc</td>\n",
       "    </tr>\n",
       "    <tr>\n",
       "      <th>4</th>\n",
       "      <td>vhigh</td>\n",
       "      <td>vhigh</td>\n",
       "      <td>2</td>\n",
       "      <td>2</td>\n",
       "      <td>med</td>\n",
       "      <td>high</td>\n",
       "      <td>unacc</td>\n",
       "    </tr>\n",
       "  </tbody>\n",
       "</table>\n",
       "</div>"
      ],
      "text/plain": [
       "  buying  maint doors persons lug_boot safety target\n",
       "0  vhigh  vhigh     2       2    small    med  unacc\n",
       "1  vhigh  vhigh     2       2    small   high  unacc\n",
       "2  vhigh  vhigh     2       2      med    low  unacc\n",
       "3  vhigh  vhigh     2       2      med    med  unacc\n",
       "4  vhigh  vhigh     2       2      med   high  unacc"
      ]
     },
     "execution_count": 2,
     "metadata": {},
     "output_type": "execute_result"
    }
   ],
   "source": [
    "class_df = pd.read_csv('../../Datasets/Case_Study_01/car.data')\n",
    "class_df.columns =   ['buying', 'maint', 'doors','persons','lug_boot','safety','target']\n",
    "class_df.head()"
   ]
  },
  {
   "cell_type": "markdown",
   "id": "87875d16",
   "metadata": {},
   "source": [
    "#### Required preprocessing because scikit-learn does not support the use of string features, we convert these features to numerical features using label encoder"
   ]
  },
  {
   "cell_type": "code",
   "execution_count": 3,
   "id": "4ce12452",
   "metadata": {},
   "outputs": [
    {
     "data": {
      "text/html": [
       "<div>\n",
       "<style scoped>\n",
       "    .dataframe tbody tr th:only-of-type {\n",
       "        vertical-align: middle;\n",
       "    }\n",
       "\n",
       "    .dataframe tbody tr th {\n",
       "        vertical-align: top;\n",
       "    }\n",
       "\n",
       "    .dataframe thead th {\n",
       "        text-align: right;\n",
       "    }\n",
       "</style>\n",
       "<table border=\"1\" class=\"dataframe\">\n",
       "  <thead>\n",
       "    <tr style=\"text-align: right;\">\n",
       "      <th></th>\n",
       "      <th>buying</th>\n",
       "      <th>maint</th>\n",
       "      <th>doors</th>\n",
       "      <th>persons</th>\n",
       "      <th>lug_boot</th>\n",
       "      <th>safety</th>\n",
       "      <th>target</th>\n",
       "    </tr>\n",
       "  </thead>\n",
       "  <tbody>\n",
       "    <tr>\n",
       "      <th>0</th>\n",
       "      <td>3</td>\n",
       "      <td>3</td>\n",
       "      <td>0</td>\n",
       "      <td>0</td>\n",
       "      <td>2</td>\n",
       "      <td>2</td>\n",
       "      <td>2</td>\n",
       "    </tr>\n",
       "    <tr>\n",
       "      <th>1</th>\n",
       "      <td>3</td>\n",
       "      <td>3</td>\n",
       "      <td>0</td>\n",
       "      <td>0</td>\n",
       "      <td>2</td>\n",
       "      <td>0</td>\n",
       "      <td>2</td>\n",
       "    </tr>\n",
       "    <tr>\n",
       "      <th>2</th>\n",
       "      <td>3</td>\n",
       "      <td>3</td>\n",
       "      <td>0</td>\n",
       "      <td>0</td>\n",
       "      <td>1</td>\n",
       "      <td>1</td>\n",
       "      <td>2</td>\n",
       "    </tr>\n",
       "    <tr>\n",
       "      <th>3</th>\n",
       "      <td>3</td>\n",
       "      <td>3</td>\n",
       "      <td>0</td>\n",
       "      <td>0</td>\n",
       "      <td>1</td>\n",
       "      <td>2</td>\n",
       "      <td>2</td>\n",
       "    </tr>\n",
       "    <tr>\n",
       "      <th>4</th>\n",
       "      <td>3</td>\n",
       "      <td>3</td>\n",
       "      <td>0</td>\n",
       "      <td>0</td>\n",
       "      <td>1</td>\n",
       "      <td>0</td>\n",
       "      <td>2</td>\n",
       "    </tr>\n",
       "    <tr>\n",
       "      <th>...</th>\n",
       "      <td>...</td>\n",
       "      <td>...</td>\n",
       "      <td>...</td>\n",
       "      <td>...</td>\n",
       "      <td>...</td>\n",
       "      <td>...</td>\n",
       "      <td>...</td>\n",
       "    </tr>\n",
       "    <tr>\n",
       "      <th>1722</th>\n",
       "      <td>1</td>\n",
       "      <td>1</td>\n",
       "      <td>3</td>\n",
       "      <td>2</td>\n",
       "      <td>1</td>\n",
       "      <td>2</td>\n",
       "      <td>1</td>\n",
       "    </tr>\n",
       "    <tr>\n",
       "      <th>1723</th>\n",
       "      <td>1</td>\n",
       "      <td>1</td>\n",
       "      <td>3</td>\n",
       "      <td>2</td>\n",
       "      <td>1</td>\n",
       "      <td>0</td>\n",
       "      <td>3</td>\n",
       "    </tr>\n",
       "    <tr>\n",
       "      <th>1724</th>\n",
       "      <td>1</td>\n",
       "      <td>1</td>\n",
       "      <td>3</td>\n",
       "      <td>2</td>\n",
       "      <td>0</td>\n",
       "      <td>1</td>\n",
       "      <td>2</td>\n",
       "    </tr>\n",
       "    <tr>\n",
       "      <th>1725</th>\n",
       "      <td>1</td>\n",
       "      <td>1</td>\n",
       "      <td>3</td>\n",
       "      <td>2</td>\n",
       "      <td>0</td>\n",
       "      <td>2</td>\n",
       "      <td>1</td>\n",
       "    </tr>\n",
       "    <tr>\n",
       "      <th>1726</th>\n",
       "      <td>1</td>\n",
       "      <td>1</td>\n",
       "      <td>3</td>\n",
       "      <td>2</td>\n",
       "      <td>0</td>\n",
       "      <td>0</td>\n",
       "      <td>3</td>\n",
       "    </tr>\n",
       "  </tbody>\n",
       "</table>\n",
       "<p>1727 rows × 7 columns</p>\n",
       "</div>"
      ],
      "text/plain": [
       "      buying  maint  doors  persons  lug_boot  safety  target\n",
       "0          3      3      0        0         2       2       2\n",
       "1          3      3      0        0         2       0       2\n",
       "2          3      3      0        0         1       1       2\n",
       "3          3      3      0        0         1       2       2\n",
       "4          3      3      0        0         1       0       2\n",
       "...      ...    ...    ...      ...       ...     ...     ...\n",
       "1722       1      1      3        2         1       2       1\n",
       "1723       1      1      3        2         1       0       3\n",
       "1724       1      1      3        2         0       1       2\n",
       "1725       1      1      3        2         0       2       1\n",
       "1726       1      1      3        2         0       0       3\n",
       "\n",
       "[1727 rows x 7 columns]"
      ]
     },
     "execution_count": 3,
     "metadata": {},
     "output_type": "execute_result"
    }
   ],
   "source": [
    "from sklearn import preprocessing\n",
    "\n",
    "le = preprocessing.LabelEncoder()\n",
    "balance_data = class_df.apply(le.fit_transform)\n",
    "balance_data"
   ]
  },
  {
   "cell_type": "markdown",
   "id": "9e2c216b",
   "metadata": {},
   "source": [
    "#### Splitting the data into test and train set"
   ]
  },
  {
   "cell_type": "code",
   "execution_count": 4,
   "id": "ae355eb8",
   "metadata": {},
   "outputs": [
    {
     "name": "stdout",
     "output_type": "stream",
     "text": [
      "      buying  maint  doors  persons  lug_boot  safety\n",
      "1412       1      0      0        1         2       1\n",
      "756        0      1      0        0         2       2\n",
      "589        0      0      1        2         1       0\n",
      "906        2      3      1        1         0       2\n",
      "1022       2      0      1        2         0       1\n",
      "...      ...    ...    ...      ...       ...     ...\n",
      "1130       2      2      1        2         0       1\n",
      "1294       2      1      3        2         0       0\n",
      "860        0      1      3        2         0       1\n",
      "1459       1      0      2        0         2       0\n",
      "1126       2      2      1        2         2       0\n",
      "\n",
      "[1295 rows x 6 columns]\n"
     ]
    }
   ],
   "source": [
    "from sklearn.model_selection import train_test_split\n",
    "\n",
    "X = balance_data.iloc[:,0:-1]\n",
    "y = balance_data.iloc[:,6]\n",
    "\n",
    "X_train, X_test, y_train, y_test = train_test_split(X, y, test_size=0.25, random_state=42)\n",
    "print(X_train)"
   ]
  },
  {
   "cell_type": "code",
   "execution_count": 5,
   "id": "cf394d72",
   "metadata": {},
   "outputs": [],
   "source": [
    "target_labels = ['unacc','acc','good','vgood']"
   ]
  },
  {
   "cell_type": "markdown",
   "id": "4877f9ef",
   "metadata": {},
   "source": [
    "### Method01\n",
    "# Naive Bayes Classifier"
   ]
  },
  {
   "cell_type": "markdown",
   "id": "8b3b5a43",
   "metadata": {},
   "source": [
    "Naive Bayes methods are a set of supervised learning algorithms based on applying Bayes’ theorem with the **“naive”** assumption of conditional independence between every pair of features given the value of the class variable."
   ]
  },
  {
   "cell_type": "markdown",
   "id": "490000d7",
   "metadata": {},
   "source": [
    "## Gaussian Naive Bayes"
   ]
  },
  {
   "cell_type": "markdown",
   "id": "a272dec5",
   "metadata": {},
   "source": [
    "**GaussianNB** implements the Gaussian Naive Bayes algorithm for classification. The likelihood of the features is assumed to be Gaussian:"
   ]
  },
  {
   "cell_type": "markdown",
   "id": "509d8813",
   "metadata": {},
   "source": [
    "![equations image](../../Images/day04_Capture.PNG)"
   ]
  },
  {
   "cell_type": "markdown",
   "id": "857a2cf2",
   "metadata": {},
   "source": [
    "The parameters ![equations image](../../Images/day04_Capture1.PNG) and ![equations image](../../Images/day04_Capture2.PNG) are estimated using maximum likelihood."
   ]
  },
  {
   "cell_type": "code",
   "execution_count": 6,
   "id": "f9fbcd71",
   "metadata": {},
   "outputs": [],
   "source": [
    "from sklearn.naive_bayes import GaussianNB\n",
    "\n",
    "gnb = GaussianNB()\n",
    "y_pred = gnb.fit(X_train, y_train)"
   ]
  },
  {
   "cell_type": "code",
   "execution_count": 7,
   "id": "7b2228a1",
   "metadata": {},
   "outputs": [
    {
     "name": "stdout",
     "output_type": "stream",
     "text": [
      "59.72222222222222\n",
      "Number of mislabeled points out of a total 432 points : 174\n"
     ]
    }
   ],
   "source": [
    "preds = gnb.predict(X_test)\n",
    "\n",
    "#calculating accuracy of predictions made by random forest classifier\n",
    "\n",
    "mask = preds==y_test\n",
    "correct = np.count_nonzero(mask)\n",
    "print (correct*100.0/preds.size)\n",
    "\n",
    "print(\"Number of mislabeled points out of a total %d points : %d\"% (X_test.shape[0], (y_test != preds).sum()))"
   ]
  },
  {
   "cell_type": "markdown",
   "id": "9f1e0dd0",
   "metadata": {},
   "source": [
    "##### calculating confusion matrix"
   ]
  },
  {
   "cell_type": "code",
   "execution_count": 8,
   "id": "6675017a",
   "metadata": {},
   "outputs": [
    {
     "data": {
      "text/plain": [
       "array([[  6,   0,  44,  55],\n",
       "       [  2,   0,   3,  11],\n",
       "       [  2,   0, 231,  57],\n",
       "       [  0,   0,   0,  21]], dtype=int64)"
      ]
     },
     "execution_count": 8,
     "metadata": {},
     "output_type": "execute_result"
    }
   ],
   "source": [
    "from sklearn.metrics import confusion_matrix\n",
    "\n",
    "conf_mat = confusion_matrix(y_test, preds)\n",
    "conf_mat"
   ]
  },
  {
   "cell_type": "markdown",
   "id": "3ed17aff",
   "metadata": {},
   "source": [
    "##### Calculating classification report"
   ]
  },
  {
   "cell_type": "code",
   "execution_count": 9,
   "id": "0c8627f0",
   "metadata": {},
   "outputs": [
    {
     "name": "stdout",
     "output_type": "stream",
     "text": [
      "              precision    recall  f1-score   support\n",
      "\n",
      "       unacc       0.60      0.06      0.10       105\n",
      "         acc       0.00      0.00      0.00        16\n",
      "        good       0.83      0.80      0.81       290\n",
      "       vgood       0.15      1.00      0.25        21\n",
      "\n",
      "    accuracy                           0.60       432\n",
      "   macro avg       0.39      0.46      0.29       432\n",
      "weighted avg       0.71      0.60      0.58       432\n",
      "\n"
     ]
    }
   ],
   "source": [
    "print(classification_report(y_test, preds, target_names=target_labels))"
   ]
  },
  {
   "cell_type": "markdown",
   "id": "1e407a3a",
   "metadata": {},
   "source": [
    "##### Calculating confusion matrix"
   ]
  },
  {
   "cell_type": "code",
   "execution_count": 10,
   "id": "cbe243d6",
   "metadata": {},
   "outputs": [
    {
     "data": {
      "image/png": "[encoded data removed]",
      "text/plain": [
       "<Figure size 720x720 with 2 Axes>"
      ]
     },
     "metadata": {
      "needs_background": "light"
     },
     "output_type": "display_data"
    }
   ],
   "source": [
    "fig, ax = plt.subplots(figsize=(10,10))\n",
    "plot_confusion_matrix(gnb, X_test, y_test, cmap='plasma',display_labels=target_labels, ax=ax) \n",
    "plt.show()"
   ]
  },
  {
   "cell_type": "markdown",
   "id": "8c8c406a",
   "metadata": {},
   "source": [
    "# Random Forest Classifier"
   ]
  },
  {
   "cell_type": "code",
   "execution_count": 11,
   "id": "45b84103",
   "metadata": {},
   "outputs": [
    {
     "data": {
      "text/plain": [
       "RandomForestClassifier(max_depth=8, random_state=0)"
      ]
     },
     "execution_count": 11,
     "metadata": {},
     "output_type": "execute_result"
    }
   ],
   "source": [
    "#setting the hyper parameters of random forest classifier\n",
    "clf = RandomForestClassifier(max_depth=8, random_state=0)\n",
    "\n",
    "clf.fit(X_train,y_train)"
   ]
  },
  {
   "cell_type": "code",
   "execution_count": 12,
   "id": "6cfb380c",
   "metadata": {},
   "outputs": [
    {
     "data": {
      "text/plain": [
       "1412    2\n",
       "756     2\n",
       "589     0\n",
       "906     0\n",
       "1022    2\n",
       "       ..\n",
       "1130    2\n",
       "1294    3\n",
       "860     2\n",
       "1459    2\n",
       "1126    0\n",
       "Name: target, Length: 1295, dtype: int32"
      ]
     },
     "execution_count": 12,
     "metadata": {},
     "output_type": "execute_result"
    }
   ],
   "source": [
    "#checking the values in training labels\n",
    "y_train"
   ]
  },
  {
   "cell_type": "code",
   "execution_count": 13,
   "id": "80272f1e",
   "metadata": {},
   "outputs": [
    {
     "data": {
      "text/plain": [
       "{0, 1, 2, 3}"
      ]
     },
     "execution_count": 13,
     "metadata": {},
     "output_type": "execute_result"
    }
   ],
   "source": [
    "#unique values in train labels\n",
    "set(y_train)"
   ]
  },
  {
   "cell_type": "markdown",
   "id": "a503620d",
   "metadata": {},
   "source": [
    "##### Predicting using random forest classifier"
   ]
  },
  {
   "cell_type": "code",
   "execution_count": 14,
   "id": "f461bbd6",
   "metadata": {},
   "outputs": [
    {
     "name": "stdout",
     "output_type": "stream",
     "text": [
      "Prediction completed\n",
      "Comparing predicted and actual labels\n",
      "[2 2 2 0 2 0 2 2 2 2]\n"
     ]
    },
    {
     "data": {
      "text/plain": [
       "599     2\n",
       "932     2\n",
       "628     2\n",
       "1497    0\n",
       "1262    2\n",
       "930     0\n",
       "23      2\n",
       "843     2\n",
       "963     2\n",
       "839     2\n",
       "Name: target, dtype: int32"
      ]
     },
     "execution_count": 14,
     "metadata": {},
     "output_type": "execute_result"
    }
   ],
   "source": [
    "predicted_labels = clf.predict(X_test)\n",
    "print(\"Prediction completed\")\n",
    "# uncomment below lines to get the predicted labesl and the actural labels printed.\n",
    "print(\"Comparing predicted and actual labels\")\n",
    "print(predicted_labels[0:10])\n",
    "y_test[:10]"
   ]
  },
  {
   "cell_type": "code",
   "execution_count": 15,
   "id": "766f2278",
   "metadata": {},
   "outputs": [
    {
     "name": "stdout",
     "output_type": "stream",
     "text": [
      "94.21296296296296\n",
      "Number of mislabeled points out of a total 432 points : 25\n"
     ]
    }
   ],
   "source": [
    "#calculating accuracy of predictions made by random forest classifier\n",
    "\n",
    "mask = predicted_labels==y_test\n",
    "correct = np.count_nonzero(mask)\n",
    "print (correct*100.0/predicted_labels.size)\n",
    "\n",
    "print(\"Number of mislabeled points out of a total %d points : %d\"% (X_test.shape[0], (y_test != predicted_labels).sum()))"
   ]
  },
  {
   "cell_type": "code",
   "execution_count": 16,
   "id": "87ee4614",
   "metadata": {},
   "outputs": [
    {
     "name": "stdout",
     "output_type": "stream",
     "text": [
      "              precision    recall  f1-score   support\n",
      "\n",
      "       unacc       0.87      0.92      0.90       105\n",
      "         acc       1.00      0.25      0.40        16\n",
      "        good       0.97      1.00      0.98       290\n",
      "       vgood       0.85      0.81      0.83        21\n",
      "\n",
      "    accuracy                           0.94       432\n",
      "   macro avg       0.92      0.74      0.78       432\n",
      "weighted avg       0.94      0.94      0.93       432\n",
      "\n"
     ]
    }
   ],
   "source": [
    "print(classification_report(y_test, predicted_labels, target_names=target_labels))"
   ]
  },
  {
   "cell_type": "code",
   "execution_count": 17,
   "id": "70bcc94e",
   "metadata": {},
   "outputs": [
    {
     "data": {
      "text/plain": [
       "array([[ 97,   0,   8,   0],\n",
       "       [  9,   4,   0,   3],\n",
       "       [  1,   0, 289,   0],\n",
       "       [  4,   0,   0,  17]], dtype=int64)"
      ]
     },
     "execution_count": 17,
     "metadata": {},
     "output_type": "execute_result"
    }
   ],
   "source": [
    "from sklearn.metrics import confusion_matrix\n",
    "\n",
    "conf_mat = confusion_matrix(y_test, predicted_labels)\n",
    "conf_mat"
   ]
  },
  {
   "cell_type": "code",
   "execution_count": 18,
   "id": "85cf17d2",
   "metadata": {},
   "outputs": [
    {
     "data": {
      "image/png": "[encoded data removed]",
      "text/plain": [
       "<Figure size 720x720 with 2 Axes>"
      ]
     },
     "metadata": {
      "needs_background": "light"
     },
     "output_type": "display_data"
    }
   ],
   "source": [
    "fig, ax = plt.subplots(figsize=(10,10))\n",
    "plot_confusion_matrix(clf, X_test, y_test, cmap='plasma',display_labels=target_labels, ax = ax) \n",
    "plt.show()"
   ]
  },
  {
   "cell_type": "code",
   "execution_count": 19,
   "id": "025cde0e",
   "metadata": {},
   "outputs": [
    {
     "data": {
      "text/plain": [
       "array([2])"
      ]
     },
     "execution_count": 19,
     "metadata": {},
     "output_type": "execute_result"
    }
   ],
   "source": [
    "import numpy as np\n",
    "test = [2,0,2,3,4,2]\n",
    "test = np.array(test)\n",
    "test = np.reshape(test, (-1,6))\n",
    "clf.predict(test)"
   ]
  }
 ],
 "metadata": {
  "kernelspec": {
   "display_name": "Python 3 (ipykernel)",
   "language": "python",
   "name": "python3"
  },
  "language_info": {
   "codemirror_mode": {
    "name": "ipython",
    "version": 3
   },
   "file_extension": ".py",
   "mimetype": "text/x-python",
   "name": "python",
   "nbconvert_exporter": "python",
   "pygments_lexer": "ipython3",
   "version": "3.7.9"
  }
 },
 "nbformat": 4,
 "nbformat_minor": 5
}
